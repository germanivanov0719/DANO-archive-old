{
 "cells": [
  {
   "cell_type": "code",
   "execution_count": 2,
   "metadata": {},
   "outputs": [],
   "source": [
    "import pandas as pd\n",
    "import seaborn as sns\n",
    "import matplotlib.pyplot as plt"
   ]
  },
  {
   "cell_type": "code",
   "execution_count": 3,
   "metadata": {},
   "outputs": [
    {
     "name": "stderr",
     "output_type": "stream",
     "text": [
      "/var/folders/g7/fsqf0_dj0t91wd65112c268r0000gn/T/ipykernel_73407/624712676.py:1: DtypeWarning: Columns (24,26,30,32,35,37,41,43,47,48,50,55,56,57,58,59,60,61,62,63,64,65,66,67,68,69,70,71,72,73,74,75,76,78,79,80,81,82,83,84,85,86,87,89,90,91,92,93,94,95,96,97,99,101,102,103,104,105,106,107,108,109,110,111,112,114,115,116,117,118,119,120,121,122,123,124,126,128,129,130,131,132,133,134,135,136,137,138,139,141,143,144,145,146,147,148,149,150,151,152,153,154,155,157,159,160,161,162,163,164,165,166,167,168,169,170,171,172,174,176,177,178,179,180,181,182,183,184,185,186,187,188,189,190,191,192,194,195,196,197,198,199,200,201,202,203,204,205,206,207,208,210,211,218,219,226,227,228,230,231,232,233,235,241,242,243,244,245,246,247,248,249,251,252,253,255,256,257,258,259,263,264,265,269,270,271,272,273,274,275,276,277,278,279,280,282,283,284,285,286,287,288,289,293,294,298,299,300,301,302,303,304,305,306,307,308,309,310,314,318,319,323,327,331,335,336,337,338,339,340,341,343,347,348,352,359,360,364,365,366,367,371,375,376,377,378,379,380,381,382,383,384,385,386,387,388,389,393,397,398,401,402,404,405,406,407,408,409,410,412,413,414,415,416,418,419,420,421,423,424,425,426,428,429,430,431,433,434,435,436,438,439,440,441,442,443,444,445,446,447,448,449,450,451,453,454,455,456,458,459,460,461,463,464,465,466,468,469,470,471,473,474,475,476,478,479,480,481,482,483,484,485,486,487,488,490,491,492,493,494,495,496,497,498,499,500,501,503,504,505,506,507,508,509,514,515,516,517,518,519,520,521,522,523,524,525,526,529,535,536,550,551,552,556,557,558,563,568,569,570,571,572,573,575,576,577,578,579,580,581,583,587,595,596,597,598,599,601,605,613,614,615,616,617,618,619,620,621,622,623,628,629,630,632,633,634,635,640,641,642,643,647,648,652,662,666,674,675,676,677,678,680,683,684,685,686,687,688,689,690,692,693,694,698,702,710,711,712,713,714,715,725,729,746,747,761,762,763,764,765,766,767,768,769,770,771,772,782,786,794,795,796,797,798,799,800,801,803,804,805,806,807,809,810,812,813,814,815,816,817,818,819,820,830,846,847,848,849,850,852,853,855,856,858,867,868,870,871,872,873,874,875,876,877,878,879,880,881,882,883,897,898,899,903,904,905,910,915,916,918,919,920,922,923,924,925,927,928,930,934,942,943,945,948,960,961,962,963,964,965,967,968,969,975,976,977,978,979,980,982,987,988,989,990,994,995,999,1009,1021,1022,1023,1024,1025,1026,1036,1040,1048,1060,1064,1072,1073,1074,1075,1078,1081,1082,1083,1084,1085,1086,1087,1090,1091,1092,1096,1108,1109,1111,1112,1113,1123,1145,1159,1160,1161,1162,1163,1164,1165,1166,1167,1168,1169,1170,1180,1184,1192,1193,1194,1195,1196,1197,1198,1201,1202,1203,1204,1207,1210,1211,1212,1213,1214,1216,1217,1218,1228,1244,1245,1246,1247,1248,1249,1250,1251,1252,1253,1254,1255,1256,1265,1266,1267,1268,1269,1270,1271,1272,1273,1274,1275,1276,1289,1290,1291,1295,1296,1297,1301,1302,1303,1307,1308,1309,1310,1311,1312,1313,1314,1315,1316,1317,1318,1319,1323,1327,1331,1332,1333,1334,1337,1349,1350,1351,1352,1353,1354,1357,1359,1364,1365,1366,1367,1371,1376,1377,1378,1379,1388,1398,1410,1411,1412,1419,1420,1422,1423,1425,1428,1429,1446,1449,1450,1497,1500,1501,1503,1504,1506,1518,1530,1533,1536,1539,1540,1542,1543,1545,1546,1548,1549,1550,1551,1552,1556,1557,1559,1560,1561,1562,1571,1572,1573,1574,1575,1576,1586,1590,1598,1599,1600,1601,1604,1607,1608,1610,1611,1613,1616,1617,1622,1634,1635,1637,1638,1649,1671,1685,1688,1689,1691,1692,1694,1695,1706,1718,1719,1721,1724,1727,1728,1736,1737,1738,1739,1740,1741,1742,1743,1744,1754,1758,1775,1779,1783,1787,1788,1789,1790,1791,1792,1793,1794,1796,1800,1801,1802,1806,1813,1814,1818,1819,1820,1821,1825,1829,1830,1831,1832,1833,1834,1835,1836,1837,1843,1844,1846,1847,1849,1850,1851,1852,1853,1854,1855,1856,1857,1858,1859,1860,1861,1862,1863,1865,1867,1869,1871,1873,1874,1875,1876,1880,1881,1882,1883,1884,1885,1886,1887,1888,1889,1890,1891,1892,1893,1894,1895,1896,1897,1898,1900,1901,1903,1906,1907,1908,1909,1910,1911,1912,1913,1915,1916,1918,1919,1920,1921,1923,1924,1926,1927,1929,1930,1932,1933,1936,1937,1938,1940,1944,1948,1949,1952,1955,1956,1957,1958,1959,1960,1961,1962,1963,1965,1966,1968,1969,1970,1971,1972,1973,1974,1975,1976,1977,1978,1979,1980,1981,1982,1983,1984,1985,1986,1987,1988,1989,1990,1991,1992,1993,1994,1995,1996,1997,1998,1999,2000,2001,2002,2003,2004,2005,2006,2007,2008,2010,2011,2012,2013,2015,2016,2019,2020,2022,2023,2025,2026,2029,2030,2032,2033,2035,2036,2039,2040,2042,2043,2045,2046,2049,2050,2052,2054,2055,2057,2059,2060,2062,2064,2065,2067,2074,2077,2078,2080,2082,2083,2085,2086,2087,2089,2090,2092,2093,2094,2095,2097,2099,2101,2102,2103,2105,2107,2109,2110,2111,2113,2114,2115,2117,2118,2119,2121,2122,2123,2125,2127,2129,2130,2131,2133,2134,2135,2137,2138,2139,2141,2142,2143,2145,2146,2147,2149,2150,2151,2153,2154,2155,2157,2158,2159,2161,2162,2163,2165,2166,2167,2169,2170,2171,2173,2174,2175,2177,2178,2179,2181,2182,2183,2185,2186,2187,2189,2190,2191,2193,2194,2195,2197,2198,2199,2201,2202,2203,2205,2206,2207,2209,2210,2211,2213,2214,2217,2218,2219,2221,2222,2223,2224,2225,2226,2227,2228,2229,2230,2231,2232,2233,2234,2235,2237,2239,2249,2250,2251,2255,2256,2257,2261,2262,2263,2267,2268,2269,2273,2274,2275,2279,2280,2281,2285,2286,2287,2291,2292,2293,2295,2296,2297,2299,2300,2301,2303,2304,2305,2307,2308,2309,2311,2312,2313,2315,2316,2317,2319,2320,2321,2323,2324,2325,2327,2328,2329,2331,2332,2333,2334,2339,2342,2343,2344,2347,2348,2349,2351,2352,2356,2357,2358,2360,2361,2362,2364,2365,2368,2369,2371,2373,2374,2377,2378,2380,2382,2383,2385,2387,2388,2390,2392,2393,2395,2397,2398,2400,2401,2403,2405,2407,2408,2410,2412,2413,2415,2417,2418,2420,2422,2423,2425,2427,2428,2430,2432,2433,2435,2437,2438,2440,2442,2443,2445,2447,2448,2450,2452,2453,2455,2456,2457,2459,2460,2462,2464,2465,2467,2469,2470,2472,2474,2475,2477,2479,2480,2482,2484,2485,2487,2489,2490,2492,2494,2495,2497,2500,2502,2504,2505,2507,2509,2510,2512,2517,2520,2522,2524,2525,2527,2528,2529,2530,2531,2532,2533,2534,2535,2537,2538,2540,2541,2543,2544,2546,2549,2551,2554,2556,2558,2559,2561,2563,2564,2566,2568,2569,2571,2573,2574,2576,2578,2579,2581,2583,2584,2586,2588,2589,2591,2593,2594,2596,2598,2599,2601,2603,2604,2606,2608,2609,2611,2612,2613,2614,2619,2625,2626,2640,2641,2642,2643,2644,2645,2646) have mixed types. Specify dtype option on import or set low_memory=False.\n",
      "  hh  = pd.read_csv('./1-5 database_hh_ 230323_с пустыми столбцами.csv', encoding='windows-1251', index_col=0,skipinitialspace=True)\n",
      "/var/folders/g7/fsqf0_dj0t91wd65112c268r0000gn/T/ipykernel_73407/624712676.py:2: DtypeWarning: Columns (102,224,253,263,274,292,295,368,408,532,546,578,614,620,673,683,693,733,743,753,763,773,845,849,886,889,892,898,975,977,979,987,995,1068,1075,1090,1092,1099,1115,1138,1141,1172,1174,1176,1236,1239,1242,1304,1316,1328,1399,1401,1406,1409,1428,1655,1657,1659,1752,1754) have mixed types. Specify dtype option on import or set low_memory=False.\n",
      "  ind = pd.read_csv('./1-5database_ind_240323_с пустыми столбцами.csv', encoding='windows-1251')\n"
     ]
    },
    {
     "name": "stdout",
     "output_type": "stream",
     "text": [
      "<class 'pandas.core.frame.DataFrame'>\n",
      "Index: 30243 entries, 1 to 30243\n",
      "Columns: 2646 entries, X to h_x8\n",
      "dtypes: float64(1216), int64(10), object(1420)\n",
      "memory usage: 610.8+ MB\n"
     ]
    }
   ],
   "source": [
    "hh  = pd.read_csv('./1-5 database_hh_ 230323_с пустыми столбцами.csv', encoding='windows-1251', index_col=0,skipinitialspace=True)\n",
    "ind = pd.read_csv('./1-5database_ind_240323_с пустыми столбцами.csv', encoding='windows-1251')\n",
    "hh.info()"
   ]
  },
  {
   "cell_type": "code",
   "execution_count": 4,
   "metadata": {},
   "outputs": [
    {
     "ename": "NameError",
     "evalue": "name 'df' is not defined",
     "output_type": "error",
     "traceback": [
      "\u001b[0;31m---------------------------------------------------------------------------\u001b[0m",
      "\u001b[0;31mNameError\u001b[0m                                 Traceback (most recent call last)",
      "Cell \u001b[0;32mIn[4], line 1\u001b[0m\n\u001b[0;32m----> 1\u001b[0m \u001b[43mdf\u001b[49m\u001b[38;5;241m.\u001b[39mhead()\n",
      "\u001b[0;31mNameError\u001b[0m: name 'df' is not defined"
     ]
    }
   ],
   "source": [
    "df.head()"
   ]
  },
  {
   "cell_type": "code",
   "execution_count": null,
   "metadata": {},
   "outputs": [
    {
     "ename": "KeyError",
     "evalue": "'p7_1'",
     "output_type": "error",
     "traceback": [
      "\u001b[0;31m---------------------------------------------------------------------------\u001b[0m",
      "\u001b[0;31mKeyError\u001b[0m                                  Traceback (most recent call last)",
      "File \u001b[0;32m/opt/homebrew/lib/python3.11/site-packages/pandas/core/indexes/base.py:3790\u001b[0m, in \u001b[0;36mIndex.get_loc\u001b[0;34m(self, key)\u001b[0m\n\u001b[1;32m   3789\u001b[0m \u001b[39mtry\u001b[39;00m:\n\u001b[0;32m-> 3790\u001b[0m     \u001b[39mreturn\u001b[39;00m \u001b[39mself\u001b[39;49m\u001b[39m.\u001b[39;49m_engine\u001b[39m.\u001b[39;49mget_loc(casted_key)\n\u001b[1;32m   3791\u001b[0m \u001b[39mexcept\u001b[39;00m \u001b[39mKeyError\u001b[39;00m \u001b[39mas\u001b[39;00m err:\n",
      "File \u001b[0;32mindex.pyx:152\u001b[0m, in \u001b[0;36mpandas._libs.index.IndexEngine.get_loc\u001b[0;34m()\u001b[0m\n",
      "File \u001b[0;32mindex.pyx:181\u001b[0m, in \u001b[0;36mpandas._libs.index.IndexEngine.get_loc\u001b[0;34m()\u001b[0m\n",
      "File \u001b[0;32mpandas/_libs/hashtable_class_helper.pxi:7080\u001b[0m, in \u001b[0;36mpandas._libs.hashtable.PyObjectHashTable.get_item\u001b[0;34m()\u001b[0m\n",
      "File \u001b[0;32mpandas/_libs/hashtable_class_helper.pxi:7088\u001b[0m, in \u001b[0;36mpandas._libs.hashtable.PyObjectHashTable.get_item\u001b[0;34m()\u001b[0m\n",
      "\u001b[0;31mKeyError\u001b[0m: 'p7_1'",
      "\nThe above exception was the direct cause of the following exception:\n",
      "\u001b[0;31mKeyError\u001b[0m                                  Traceback (most recent call last)",
      "\u001b[1;32m/Users/german/Library/CloudStorage/GoogleDrive-germanivanov0719@gmail.com/My Drive/DANO 2023/German/Bank/bank.ipynb Cell 4\u001b[0m line \u001b[0;36m1\n\u001b[0;32m----> <a href='vscode-notebook-cell:/Users/german/Library/CloudStorage/GoogleDrive-germanivanov0719%40gmail.com/My%20Drive/DANO%202023/German/Bank/bank.ipynb#W3sZmlsZQ%3D%3D?line=0'>1</a>\u001b[0m df[\u001b[39m'\u001b[39;49m\u001b[39mp7_1\u001b[39;49m\u001b[39m'\u001b[39;49m]\u001b[39m.\u001b[39mvalue_counts()\u001b[39m.\u001b[39mplot()\n\u001b[1;32m      <a href='vscode-notebook-cell:/Users/german/Library/CloudStorage/GoogleDrive-germanivanov0719%40gmail.com/My%20Drive/DANO%202023/German/Bank/bank.ipynb#W3sZmlsZQ%3D%3D?line=1'>2</a>\u001b[0m plt\u001b[39m.\u001b[39msavefig(\u001b[39m'\u001b[39m\u001b[39mfig.svg\u001b[39m\u001b[39m'\u001b[39m)\n",
      "File \u001b[0;32m/opt/homebrew/lib/python3.11/site-packages/pandas/core/frame.py:3893\u001b[0m, in \u001b[0;36mDataFrame.__getitem__\u001b[0;34m(self, key)\u001b[0m\n\u001b[1;32m   3891\u001b[0m \u001b[39mif\u001b[39;00m \u001b[39mself\u001b[39m\u001b[39m.\u001b[39mcolumns\u001b[39m.\u001b[39mnlevels \u001b[39m>\u001b[39m \u001b[39m1\u001b[39m:\n\u001b[1;32m   3892\u001b[0m     \u001b[39mreturn\u001b[39;00m \u001b[39mself\u001b[39m\u001b[39m.\u001b[39m_getitem_multilevel(key)\n\u001b[0;32m-> 3893\u001b[0m indexer \u001b[39m=\u001b[39m \u001b[39mself\u001b[39;49m\u001b[39m.\u001b[39;49mcolumns\u001b[39m.\u001b[39;49mget_loc(key)\n\u001b[1;32m   3894\u001b[0m \u001b[39mif\u001b[39;00m is_integer(indexer):\n\u001b[1;32m   3895\u001b[0m     indexer \u001b[39m=\u001b[39m [indexer]\n",
      "File \u001b[0;32m/opt/homebrew/lib/python3.11/site-packages/pandas/core/indexes/base.py:3797\u001b[0m, in \u001b[0;36mIndex.get_loc\u001b[0;34m(self, key)\u001b[0m\n\u001b[1;32m   3792\u001b[0m     \u001b[39mif\u001b[39;00m \u001b[39misinstance\u001b[39m(casted_key, \u001b[39mslice\u001b[39m) \u001b[39mor\u001b[39;00m (\n\u001b[1;32m   3793\u001b[0m         \u001b[39misinstance\u001b[39m(casted_key, abc\u001b[39m.\u001b[39mIterable)\n\u001b[1;32m   3794\u001b[0m         \u001b[39mand\u001b[39;00m \u001b[39many\u001b[39m(\u001b[39misinstance\u001b[39m(x, \u001b[39mslice\u001b[39m) \u001b[39mfor\u001b[39;00m x \u001b[39min\u001b[39;00m casted_key)\n\u001b[1;32m   3795\u001b[0m     ):\n\u001b[1;32m   3796\u001b[0m         \u001b[39mraise\u001b[39;00m InvalidIndexError(key)\n\u001b[0;32m-> 3797\u001b[0m     \u001b[39mraise\u001b[39;00m \u001b[39mKeyError\u001b[39;00m(key) \u001b[39mfrom\u001b[39;00m \u001b[39merr\u001b[39;00m\n\u001b[1;32m   3798\u001b[0m \u001b[39mexcept\u001b[39;00m \u001b[39mTypeError\u001b[39;00m:\n\u001b[1;32m   3799\u001b[0m     \u001b[39m# If we have a listlike key, _check_indexing_error will raise\u001b[39;00m\n\u001b[1;32m   3800\u001b[0m     \u001b[39m#  InvalidIndexError. Otherwise we fall through and re-raise\u001b[39;00m\n\u001b[1;32m   3801\u001b[0m     \u001b[39m#  the TypeError.\u001b[39;00m\n\u001b[1;32m   3802\u001b[0m     \u001b[39mself\u001b[39m\u001b[39m.\u001b[39m_check_indexing_error(key)\n",
      "\u001b[0;31mKeyError\u001b[0m: 'p7_1'"
     ]
    }
   ],
   "source": [
    "df['p7_1'].value_counts().plot()\n",
    "plt.savefig('fig.svg')"
   ]
  },
  {
   "cell_type": "code",
   "execution_count": null,
   "metadata": {},
   "outputs": [
    {
     "data": {
      "text/plain": [
       "array([nan, 'ЗАТРУДНЯЮСЬ ОТВЕТИТЬ', 'от 400 до 500 тыс. рублей',\n",
       "       'от 2 до 2,5 млн рублей', 'ОТКАЗ ОТ ОТВЕТА',\n",
       "       'от 1,5 до 2 млн рублей', 'от 1 до 1,5 млн рублей',\n",
       "       'от 3 до 3,5 млн рублей', 'от 500 до 1 млн рублей',\n",
       "       'от 300 до 350 тыс. рублей', 'от 2,5 до 3 млн рублей',\n",
       "       'свыше 500 тыс. рублей', 'от 4 до 4,5 млн рублей',\n",
       "       'от 8 до 9 млн рублей', 'от 4,5 до 5 млн рублей'], dtype=object)"
      ]
     },
     "execution_count": 11,
     "metadata": {},
     "output_type": "execute_result"
    }
   ],
   "source": [
    "df['a66a'].unique()"
   ]
  },
  {
   "cell_type": "code",
   "execution_count": null,
   "metadata": {},
   "outputs": [
    {
     "name": "stderr",
     "output_type": "stream",
     "text": [
      "/var/folders/g7/fsqf0_dj0t91wd65112c268r0000gn/T/ipykernel_33138/2352430197.py:1: DtypeWarning: Columns (102,224,253,263,274,292,295,368,408,532,546,578,614,620,673,683,693,733,743,753,763,773,845,849,886,889,892,898,975,977,979,987,995,1068,1075,1090,1092,1099,1115,1138,1141,1172,1174,1176,1236,1239,1242,1304,1316,1328,1399,1401,1406,1409,1428,1655,1657,1659,1752,1754) have mixed types. Specify dtype option on import or set low_memory=False.\n",
      "  ind = pd.read_csv('./1-5database_ind_240323_с пустыми столбцами.csv', encoding='latin-1')\n"
     ]
    }
   ],
   "source": [
    "ind = pd.read_csv('./1-5database_ind_240323_с пустыми столбцами.csv', encoding='latin-1')"
   ]
  },
  {
   "cell_type": "code",
   "execution_count": null,
   "metadata": {},
   "outputs": [
    {
     "data": {
      "text/plain": [
       "p1_1a\n",
       "2.0           10589\n",
       "99999996.0     1420\n",
       "1.0             147\n",
       "99999998.0        4\n",
       "99999997.0        2\n",
       "Name: count, dtype: int64"
      ]
     },
     "execution_count": 31,
     "metadata": {},
     "output_type": "execute_result"
    }
   ],
   "source": [
    "ind['p1_1a'].value_counts()"
   ]
  },
  {
   "cell_type": "code",
   "execution_count": null,
   "metadata": {},
   "outputs": [
    {
     "ename": "NameError",
     "evalue": "name 'ind' is not defined",
     "output_type": "error",
     "traceback": [
      "\u001b[0;31m---------------------------------------------------------------------------\u001b[0m",
      "\u001b[0;31mNameError\u001b[0m                                 Traceback (most recent call last)",
      "\u001b[1;32m/Users/german/Library/CloudStorage/GoogleDrive-germanivanov0719@gmail.com/My Drive/DANO 2023/German/Bank/bank.ipynb Cell 8\u001b[0m line \u001b[0;36m1\n\u001b[0;32m----> <a href='vscode-notebook-cell:/Users/german/Library/CloudStorage/GoogleDrive-germanivanov0719%40gmail.com/My%20Drive/DANO%202023/German/Bank/bank.ipynb#X10sZmlsZQ%3D%3D?line=0'>1</a>\u001b[0m ind\u001b[39m.\u001b[39mcolumns\n",
      "\u001b[0;31mNameError\u001b[0m: name 'ind' is not defined"
     ]
    }
   ],
   "source": [
    "ind.columns"
   ]
  },
  {
   "cell_type": "code",
   "execution_count": null,
   "metadata": {},
   "outputs": [
    {
     "ename": "KeyError",
     "evalue": "'p1_1a'",
     "output_type": "error",
     "traceback": [
      "\u001b[0;31m---------------------------------------------------------------------------\u001b[0m",
      "\u001b[0;31mKeyError\u001b[0m                                  Traceback (most recent call last)",
      "File \u001b[0;32m/opt/homebrew/lib/python3.11/site-packages/pandas/core/indexes/base.py:3790\u001b[0m, in \u001b[0;36mIndex.get_loc\u001b[0;34m(self, key)\u001b[0m\n\u001b[1;32m   3789\u001b[0m \u001b[39mtry\u001b[39;00m:\n\u001b[0;32m-> 3790\u001b[0m     \u001b[39mreturn\u001b[39;00m \u001b[39mself\u001b[39;49m\u001b[39m.\u001b[39;49m_engine\u001b[39m.\u001b[39;49mget_loc(casted_key)\n\u001b[1;32m   3791\u001b[0m \u001b[39mexcept\u001b[39;00m \u001b[39mKeyError\u001b[39;00m \u001b[39mas\u001b[39;00m err:\n",
      "File \u001b[0;32mindex.pyx:152\u001b[0m, in \u001b[0;36mpandas._libs.index.IndexEngine.get_loc\u001b[0;34m()\u001b[0m\n",
      "File \u001b[0;32mindex.pyx:181\u001b[0m, in \u001b[0;36mpandas._libs.index.IndexEngine.get_loc\u001b[0;34m()\u001b[0m\n",
      "File \u001b[0;32mpandas/_libs/hashtable_class_helper.pxi:7080\u001b[0m, in \u001b[0;36mpandas._libs.hashtable.PyObjectHashTable.get_item\u001b[0;34m()\u001b[0m\n",
      "File \u001b[0;32mpandas/_libs/hashtable_class_helper.pxi:7088\u001b[0m, in \u001b[0;36mpandas._libs.hashtable.PyObjectHashTable.get_item\u001b[0;34m()\u001b[0m\n",
      "\u001b[0;31mKeyError\u001b[0m: 'p1_1a'",
      "\nThe above exception was the direct cause of the following exception:\n",
      "\u001b[0;31mKeyError\u001b[0m                                  Traceback (most recent call last)",
      "\u001b[1;32m/Users/german/Library/CloudStorage/GoogleDrive-germanivanov0719@gmail.com/My Drive/DANO 2023/German/Bank/bank.ipynb Cell 9\u001b[0m line \u001b[0;36m1\n\u001b[0;32m----> <a href='vscode-notebook-cell:/Users/german/Library/CloudStorage/GoogleDrive-germanivanov0719%40gmail.com/My%20Drive/DANO%202023/German/Bank/bank.ipynb#X12sZmlsZQ%3D%3D?line=0'>1</a>\u001b[0m df[\u001b[39m'\u001b[39;49m\u001b[39mp1_1a\u001b[39;49m\u001b[39m'\u001b[39;49m]\n",
      "File \u001b[0;32m/opt/homebrew/lib/python3.11/site-packages/pandas/core/frame.py:3893\u001b[0m, in \u001b[0;36mDataFrame.__getitem__\u001b[0;34m(self, key)\u001b[0m\n\u001b[1;32m   3891\u001b[0m \u001b[39mif\u001b[39;00m \u001b[39mself\u001b[39m\u001b[39m.\u001b[39mcolumns\u001b[39m.\u001b[39mnlevels \u001b[39m>\u001b[39m \u001b[39m1\u001b[39m:\n\u001b[1;32m   3892\u001b[0m     \u001b[39mreturn\u001b[39;00m \u001b[39mself\u001b[39m\u001b[39m.\u001b[39m_getitem_multilevel(key)\n\u001b[0;32m-> 3893\u001b[0m indexer \u001b[39m=\u001b[39m \u001b[39mself\u001b[39;49m\u001b[39m.\u001b[39;49mcolumns\u001b[39m.\u001b[39;49mget_loc(key)\n\u001b[1;32m   3894\u001b[0m \u001b[39mif\u001b[39;00m is_integer(indexer):\n\u001b[1;32m   3895\u001b[0m     indexer \u001b[39m=\u001b[39m [indexer]\n",
      "File \u001b[0;32m/opt/homebrew/lib/python3.11/site-packages/pandas/core/indexes/base.py:3797\u001b[0m, in \u001b[0;36mIndex.get_loc\u001b[0;34m(self, key)\u001b[0m\n\u001b[1;32m   3792\u001b[0m     \u001b[39mif\u001b[39;00m \u001b[39misinstance\u001b[39m(casted_key, \u001b[39mslice\u001b[39m) \u001b[39mor\u001b[39;00m (\n\u001b[1;32m   3793\u001b[0m         \u001b[39misinstance\u001b[39m(casted_key, abc\u001b[39m.\u001b[39mIterable)\n\u001b[1;32m   3794\u001b[0m         \u001b[39mand\u001b[39;00m \u001b[39many\u001b[39m(\u001b[39misinstance\u001b[39m(x, \u001b[39mslice\u001b[39m) \u001b[39mfor\u001b[39;00m x \u001b[39min\u001b[39;00m casted_key)\n\u001b[1;32m   3795\u001b[0m     ):\n\u001b[1;32m   3796\u001b[0m         \u001b[39mraise\u001b[39;00m InvalidIndexError(key)\n\u001b[0;32m-> 3797\u001b[0m     \u001b[39mraise\u001b[39;00m \u001b[39mKeyError\u001b[39;00m(key) \u001b[39mfrom\u001b[39;00m \u001b[39merr\u001b[39;00m\n\u001b[1;32m   3798\u001b[0m \u001b[39mexcept\u001b[39;00m \u001b[39mTypeError\u001b[39;00m:\n\u001b[1;32m   3799\u001b[0m     \u001b[39m# If we have a listlike key, _check_indexing_error will raise\u001b[39;00m\n\u001b[1;32m   3800\u001b[0m     \u001b[39m#  InvalidIndexError. Otherwise we fall through and re-raise\u001b[39;00m\n\u001b[1;32m   3801\u001b[0m     \u001b[39m#  the TypeError.\u001b[39;00m\n\u001b[1;32m   3802\u001b[0m     \u001b[39mself\u001b[39m\u001b[39m.\u001b[39m_check_indexing_error(key)\n",
      "\u001b[0;31mKeyError\u001b[0m: 'p1_1a'"
     ]
    }
   ],
   "source": [
    "df['p1_1a']"
   ]
  },
  {
   "cell_type": "code",
   "execution_count": null,
   "metadata": {},
   "outputs": [
    {
     "data": {
      "text/plain": [
       "Index(['Unnamed: 0', 'X', 'id_w', 'idind', 'id_i', 'redidi', 'id_h', 'psu',\n",
       "       'gr_vozr', 'gr_educ',\n",
       "       ...\n",
       "       'm36_4', 'm36_5', 'm36_6', 'm37', 'i_x1', 'i_x2', 'i_x3', 'i_x5',\n",
       "       'i_x6', 'i_x7'],\n",
       "      dtype='object', length=1811)"
      ]
     },
     "execution_count": 10,
     "metadata": {},
     "output_type": "execute_result"
    }
   ],
   "source": [
    "ind.columns"
   ]
  },
  {
   "cell_type": "code",
   "execution_count": null,
   "metadata": {},
   "outputs": [
    {
     "ename": "NameError",
     "evalue": "name 'ind' is not defined",
     "output_type": "error",
     "traceback": [
      "\u001b[0;31m---------------------------------------------------------------------------\u001b[0m",
      "\u001b[0;31mNameError\u001b[0m                                 Traceback (most recent call last)",
      "Cell \u001b[0;32mIn[1], line 1\u001b[0m\n\u001b[0;32m----> 1\u001b[0m \u001b[43mind\u001b[49m\u001b[38;5;241m.\u001b[39mshape\n",
      "\u001b[0;31mNameError\u001b[0m: name 'ind' is not defined"
     ]
    }
   ],
   "source": [
    "ind.shape"
   ]
  }
 ],
 "metadata": {
  "kernelspec": {
   "display_name": "Python 3",
   "language": "python",
   "name": "python3"
  },
  "language_info": {
   "codemirror_mode": {
    "name": "ipython",
    "version": 3
   },
   "file_extension": ".py",
   "mimetype": "text/x-python",
   "name": "python",
   "nbconvert_exporter": "python",
   "pygments_lexer": "ipython3",
   "version": "3.11.6"
  }
 },
 "nbformat": 4,
 "nbformat_minor": 2
}
