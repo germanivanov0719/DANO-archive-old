{
 "cells": [
  {
   "cell_type": "code",
   "execution_count": 2,
   "metadata": {},
   "outputs": [],
   "source": [
    "import pandas as pd\n",
    "import statsmodels.formula.api as smf\n",
    "import matplotlib.pyplot as plt\n",
    "import seaborn as sns\n",
    "from math import log, e\n",
    "import random\n",
    "import numpy"
   ]
  },
  {
   "cell_type": "code",
   "execution_count": 3,
   "metadata": {},
   "outputs": [
    {
     "data": {
      "text/html": [
       "<div>\n",
       "<style scoped>\n",
       "    .dataframe tbody tr th:only-of-type {\n",
       "        vertical-align: middle;\n",
       "    }\n",
       "\n",
       "    .dataframe tbody tr th {\n",
       "        vertical-align: top;\n",
       "    }\n",
       "\n",
       "    .dataframe thead th {\n",
       "        text-align: right;\n",
       "    }\n",
       "</style>\n",
       "<table border=\"1\" class=\"dataframe\">\n",
       "  <thead>\n",
       "    <tr style=\"text-align: right;\">\n",
       "      <th></th>\n",
       "      <th>Unnamed: 0</th>\n",
       "      <th>id_w</th>\n",
       "      <th>age</th>\n",
       "      <th>changed</th>\n",
       "      <th>husband_yes_or_not</th>\n",
       "      <th>wage_of_partner</th>\n",
       "      <th>full_wage</th>\n",
       "      <th>y17</th>\n",
       "      <th>k31_3</th>\n",
       "      <th>k31_4</th>\n",
       "      <th>...</th>\n",
       "      <th>m2_1_4</th>\n",
       "      <th>y10_1</th>\n",
       "      <th>y10_2</th>\n",
       "      <th>y10_3</th>\n",
       "      <th>y5_2</th>\n",
       "      <th>y5_3</th>\n",
       "      <th>y5_4</th>\n",
       "      <th>y8_2</th>\n",
       "      <th>y8_3</th>\n",
       "      <th>y8_4</th>\n",
       "    </tr>\n",
       "  </thead>\n",
       "  <tbody>\n",
       "    <tr>\n",
       "      <th>0</th>\n",
       "      <td>0</td>\n",
       "      <td>2020.0</td>\n",
       "      <td>29.0</td>\n",
       "      <td>0.0</td>\n",
       "      <td>1.0</td>\n",
       "      <td>10.174468</td>\n",
       "      <td>10.867616</td>\n",
       "      <td>0.0</td>\n",
       "      <td>1.0</td>\n",
       "      <td>0.0</td>\n",
       "      <td>...</td>\n",
       "      <td>0.0</td>\n",
       "      <td>0.0</td>\n",
       "      <td>0.0</td>\n",
       "      <td>1.0</td>\n",
       "      <td>0.0</td>\n",
       "      <td>1.0</td>\n",
       "      <td>0.0</td>\n",
       "      <td>1.0</td>\n",
       "      <td>0.0</td>\n",
       "      <td>0.0</td>\n",
       "    </tr>\n",
       "    <tr>\n",
       "      <th>1</th>\n",
       "      <td>1</td>\n",
       "      <td>2020.0</td>\n",
       "      <td>38.0</td>\n",
       "      <td>0.0</td>\n",
       "      <td>0.0</td>\n",
       "      <td>0.000000</td>\n",
       "      <td>10.356790</td>\n",
       "      <td>0.0</td>\n",
       "      <td>1.0</td>\n",
       "      <td>0.0</td>\n",
       "      <td>...</td>\n",
       "      <td>0.0</td>\n",
       "      <td>0.0</td>\n",
       "      <td>0.0</td>\n",
       "      <td>1.0</td>\n",
       "      <td>0.0</td>\n",
       "      <td>1.0</td>\n",
       "      <td>0.0</td>\n",
       "      <td>1.0</td>\n",
       "      <td>0.0</td>\n",
       "      <td>0.0</td>\n",
       "    </tr>\n",
       "    <tr>\n",
       "      <th>2</th>\n",
       "      <td>2</td>\n",
       "      <td>2020.0</td>\n",
       "      <td>42.0</td>\n",
       "      <td>0.0</td>\n",
       "      <td>0.0</td>\n",
       "      <td>0.000000</td>\n",
       "      <td>11.484961</td>\n",
       "      <td>0.0</td>\n",
       "      <td>1.0</td>\n",
       "      <td>0.0</td>\n",
       "      <td>...</td>\n",
       "      <td>0.0</td>\n",
       "      <td>0.0</td>\n",
       "      <td>0.0</td>\n",
       "      <td>1.0</td>\n",
       "      <td>0.0</td>\n",
       "      <td>1.0</td>\n",
       "      <td>0.0</td>\n",
       "      <td>1.0</td>\n",
       "      <td>0.0</td>\n",
       "      <td>0.0</td>\n",
       "    </tr>\n",
       "    <tr>\n",
       "      <th>3</th>\n",
       "      <td>3</td>\n",
       "      <td>2020.0</td>\n",
       "      <td>19.0</td>\n",
       "      <td>0.0</td>\n",
       "      <td>0.0</td>\n",
       "      <td>0.000000</td>\n",
       "      <td>0.000000</td>\n",
       "      <td>0.0</td>\n",
       "      <td>1.0</td>\n",
       "      <td>1.0</td>\n",
       "      <td>...</td>\n",
       "      <td>0.0</td>\n",
       "      <td>0.0</td>\n",
       "      <td>1.0</td>\n",
       "      <td>0.0</td>\n",
       "      <td>0.0</td>\n",
       "      <td>0.0</td>\n",
       "      <td>0.0</td>\n",
       "      <td>0.0</td>\n",
       "      <td>1.0</td>\n",
       "      <td>0.0</td>\n",
       "    </tr>\n",
       "    <tr>\n",
       "      <th>4</th>\n",
       "      <td>4</td>\n",
       "      <td>2020.0</td>\n",
       "      <td>27.0</td>\n",
       "      <td>0.0</td>\n",
       "      <td>0.0</td>\n",
       "      <td>0.000000</td>\n",
       "      <td>9.951325</td>\n",
       "      <td>0.0</td>\n",
       "      <td>1.0</td>\n",
       "      <td>0.0</td>\n",
       "      <td>...</td>\n",
       "      <td>0.0</td>\n",
       "      <td>0.0</td>\n",
       "      <td>0.0</td>\n",
       "      <td>1.0</td>\n",
       "      <td>1.0</td>\n",
       "      <td>0.0</td>\n",
       "      <td>0.0</td>\n",
       "      <td>0.0</td>\n",
       "      <td>0.0</td>\n",
       "      <td>0.0</td>\n",
       "    </tr>\n",
       "  </tbody>\n",
       "</table>\n",
       "<p>5 rows × 36 columns</p>\n",
       "</div>"
      ],
      "text/plain": [
       "   Unnamed: 0    id_w   age  changed  husband_yes_or_not  wage_of_partner  \\\n",
       "0           0  2020.0  29.0      0.0                 1.0        10.174468   \n",
       "1           1  2020.0  38.0      0.0                 0.0         0.000000   \n",
       "2           2  2020.0  42.0      0.0                 0.0         0.000000   \n",
       "3           3  2020.0  19.0      0.0                 0.0         0.000000   \n",
       "4           4  2020.0  27.0      0.0                 0.0         0.000000   \n",
       "\n",
       "   full_wage  y17  k31_3  k31_4  ...  m2_1_4  y10_1  y10_2  y10_3  y5_2  y5_3  \\\n",
       "0  10.867616  0.0    1.0    0.0  ...     0.0    0.0    0.0    1.0   0.0   1.0   \n",
       "1  10.356790  0.0    1.0    0.0  ...     0.0    0.0    0.0    1.0   0.0   1.0   \n",
       "2  11.484961  0.0    1.0    0.0  ...     0.0    0.0    0.0    1.0   0.0   1.0   \n",
       "3   0.000000  0.0    1.0    1.0  ...     0.0    0.0    1.0    0.0   0.0   0.0   \n",
       "4   9.951325  0.0    1.0    0.0  ...     0.0    0.0    0.0    1.0   1.0   0.0   \n",
       "\n",
       "   y5_4  y8_2  y8_3  y8_4  \n",
       "0   0.0   1.0   0.0   0.0  \n",
       "1   0.0   1.0   0.0   0.0  \n",
       "2   0.0   1.0   0.0   0.0  \n",
       "3   0.0   0.0   1.0   0.0  \n",
       "4   0.0   0.0   0.0   0.0  \n",
       "\n",
       "[5 rows x 36 columns]"
      ]
     },
     "execution_count": 3,
     "metadata": {},
     "output_type": "execute_result"
    }
   ],
   "source": [
    "df = pd.read_csv(\"./full_wage.csv\")\n",
    "df.head()"
   ]
  },
  {
   "cell_type": "code",
   "execution_count": 4,
   "metadata": {},
   "outputs": [],
   "source": [
    "VAR = 'full_wage'"
   ]
  },
  {
   "cell_type": "code",
   "execution_count": 5,
   "metadata": {},
   "outputs": [
    {
     "name": "stdout",
     "output_type": "stream",
     "text": [
      "Optimization terminated successfully.\n",
      "         Current function value: 0.196390\n",
      "         Iterations 7\n"
     ]
    },
    {
     "data": {
      "text/html": [
       "<table class=\"simpletable\">\n",
       "<tr>\n",
       "        <td>Model:</td>              <td>Logit</td>           <td>Method:</td>         <td>MLE</td>   \n",
       "</tr>\n",
       "<tr>\n",
       "  <td>Dependent Variable:</td> <td>poyavlenie_child</td> <td>Pseudo R-squared:</td>   <td>0.000</td>  \n",
       "</tr>\n",
       "<tr>\n",
       "         <td>Date:</td>        <td>2023-12-19 01:51</td>       <td>AIC:</td>        <td>4609.7401</td>\n",
       "</tr>\n",
       "<tr>\n",
       "   <td>No. Observations:</td>        <td>11726</td>            <td>BIC:</td>        <td>4624.4792</td>\n",
       "</tr>\n",
       "<tr>\n",
       "       <td>Df Model:</td>              <td>1</td>         <td>Log-Likelihood:</td>   <td>-2302.9</td> \n",
       "</tr>\n",
       "<tr>\n",
       "     <td>Df Residuals:</td>          <td>11724</td>          <td>LL-Null:</td>       <td>-2303.3</td> \n",
       "</tr>\n",
       "<tr>\n",
       "      <td>Converged:</td>           <td>1.0000</td>        <td>LLR p-value:</td>     <td>0.36012</td> \n",
       "</tr>\n",
       "<tr>\n",
       "    <td>No. Iterations:</td>        <td>7.0000</td>           <td>Scale:</td>        <td>1.0000</td>  \n",
       "</tr>\n",
       "</table>\n",
       "<table class=\"simpletable\">\n",
       "<tr>\n",
       "      <td></td>       <th>Coef.</th>  <th>Std.Err.</th>     <th>z</th>     <th>P>|z|</th> <th>[0.025</th>  <th>0.975]</th> \n",
       "</tr>\n",
       "<tr>\n",
       "  <th>Intercept</th> <td>-3.0493</td>  <td>0.1087</td>  <td>-28.0645</td> <td>0.0000</td> <td>-3.2622</td> <td>-2.8363</td>\n",
       "</tr>\n",
       "<tr>\n",
       "  <th>full_wage</th> <td>0.0105</td>   <td>0.0116</td>   <td>0.9058</td>  <td>0.3651</td> <td>-0.0122</td> <td>0.0332</td> \n",
       "</tr>\n",
       "</table><br/>\n"
      ],
      "text/latex": [
       "\\begin{table}\n",
       "\\caption{Results: Logit}\n",
       "\\label{}\n",
       "\\begin{center}\n",
       "\\begin{tabular}{llll}\n",
       "\\hline\n",
       "Model:              & Logit             & Method:           & MLE        \\\\\n",
       "Dependent Variable: & poyavlenie\\_child & Pseudo R-squared: & 0.000      \\\\\n",
       "Date:               & 2023-12-19 01:51  & AIC:              & 4609.7401  \\\\\n",
       "No. Observations:   & 11726             & BIC:              & 4624.4792  \\\\\n",
       "Df Model:           & 1                 & Log-Likelihood:   & -2302.9    \\\\\n",
       "Df Residuals:       & 11724             & LL-Null:          & -2303.3    \\\\\n",
       "Converged:          & 1.0000            & LLR p-value:      & 0.36012    \\\\\n",
       "No. Iterations:     & 7.0000            & Scale:            & 1.0000     \\\\\n",
       "\\hline\n",
       "\\end{tabular}\n",
       "\\end{center}\n",
       "\n",
       "\\begin{center}\n",
       "\\begin{tabular}{lrrrrrr}\n",
       "\\hline\n",
       "           &   Coef. & Std.Err. &        z & P$> |$z$|$ &  [0.025 &  0.975]  \\\\\n",
       "\\hline\n",
       "Intercept  & -3.0493 &   0.1087 & -28.0645 &      0.0000 & -3.2622 & -2.8363  \\\\\n",
       "full\\_wage &  0.0105 &   0.0116 &   0.9058 &      0.3651 & -0.0122 &  0.0332  \\\\\n",
       "\\hline\n",
       "\\end{tabular}\n",
       "\\end{center}\n",
       "\\end{table}\n",
       "\\bigskip\n"
      ],
      "text/plain": [
       "<class 'statsmodels.iolib.summary2.Summary'>\n",
       "\"\"\"\n",
       "                         Results: Logit\n",
       "================================================================\n",
       "Model:              Logit            Method:           MLE      \n",
       "Dependent Variable: poyavlenie_child Pseudo R-squared: 0.000    \n",
       "Date:               2023-12-19 01:51 AIC:              4609.7401\n",
       "No. Observations:   11726            BIC:              4624.4792\n",
       "Df Model:           1                Log-Likelihood:   -2302.9  \n",
       "Df Residuals:       11724            LL-Null:          -2303.3  \n",
       "Converged:          1.0000           LLR p-value:      0.36012  \n",
       "No. Iterations:     7.0000           Scale:            1.0000   \n",
       "-----------------------------------------------------------------\n",
       "             Coef.   Std.Err.     z      P>|z|    [0.025   0.975]\n",
       "-----------------------------------------------------------------\n",
       "Intercept   -3.0493    0.1087  -28.0645  0.0000  -3.2622  -2.8363\n",
       "full_wage    0.0105    0.0116    0.9058  0.3651  -0.0122   0.0332\n",
       "================================================================\n",
       "\n",
       "\"\"\""
      ]
     },
     "execution_count": 5,
     "metadata": {},
     "output_type": "execute_result"
    }
   ],
   "source": [
    "rg = smf.logit(f\"poyavlenie_child ~ {VAR}\", data=df).fit()\n",
    "rg.summary2()"
   ]
  },
  {
   "cell_type": "code",
   "execution_count": 6,
   "metadata": {},
   "outputs": [],
   "source": [
    "pred = pd.DataFrame(\n",
    "    {\n",
    "        VAR: df[VAR],\n",
    "        \"pred\": rg.predict(df[VAR]),\n",
    "        \"real\": df.poyavlenie_child,\n",
    "    }\n",
    ")\n",
    "pred['pred_p'] = 1 / (1 + e ** -pred.pred)"
   ]
  },
  {
   "cell_type": "code",
   "execution_count": 8,
   "metadata": {},
   "outputs": [
    {
     "data": {
      "text/plain": [
       "0.008389250785637794"
      ]
     },
     "execution_count": 8,
     "metadata": {},
     "output_type": "execute_result"
    }
   ],
   "source": [
    "pred.pred.corr(pred.real)"
   ]
  },
  {
   "cell_type": "code",
   "execution_count": null,
   "metadata": {},
   "outputs": [
    {
     "data": {
      "text/plain": [
       "<Axes: xlabel='full_wage', ylabel='pred_p'>"
      ]
     },
     "execution_count": 122,
     "metadata": {},
     "output_type": "execute_result"
    },
    {
     "data": {
      "image/png": "[encoded data removed]",
      "text/plain": [
       "<Figure size 640x480 with 1 Axes>"
      ]
     },
     "metadata": {},
     "output_type": "display_data"
    }
   ],
   "source": [
    "fig, ax = plt.subplots()\n",
    "sns.scatterplot(data=pred, x=VAR, y=\"pred_p\", hue=\"real\", ax=ax)"
   ]
  },
  {
   "cell_type": "code",
   "execution_count": 14,
   "metadata": {},
   "outputs": [
    {
     "name": "stdout",
     "output_type": "stream",
     "text": [
      "Optimization terminated successfully.\n",
      "         Current function value: 0.163036\n",
      "         Iterations 8\n"
     ]
    },
    {
     "data": {
      "text/html": [
       "<table class=\"simpletable\">\n",
       "<tr>\n",
       "        <td>Model:</td>              <td>Logit</td>           <td>Method:</td>          <td>MLE</td>    \n",
       "</tr>\n",
       "<tr>\n",
       "  <td>Dependent Variable:</td> <td>poyavlenie_child</td> <td>Pseudo R-squared:</td>    <td>0.170</td>   \n",
       "</tr>\n",
       "<tr>\n",
       "         <td>Date:</td>        <td>2023-12-19 03:09</td>       <td>AIC:</td>         <td>3853.5181</td> \n",
       "</tr>\n",
       "<tr>\n",
       "   <td>No. Observations:</td>        <td>11726</td>            <td>BIC:</td>         <td>3964.0615</td> \n",
       "</tr>\n",
       "<tr>\n",
       "       <td>Df Model:</td>             <td>14</td>         <td>Log-Likelihood:</td>    <td>-1911.8</td>  \n",
       "</tr>\n",
       "<tr>\n",
       "     <td>Df Residuals:</td>          <td>11711</td>          <td>LL-Null:</td>        <td>-2303.3</td>  \n",
       "</tr>\n",
       "<tr>\n",
       "      <td>Converged:</td>           <td>1.0000</td>        <td>LLR p-value:</td>    <td>4.6423e-158</td>\n",
       "</tr>\n",
       "<tr>\n",
       "    <td>No. Iterations:</td>        <td>8.0000</td>           <td>Scale:</td>         <td>1.0000</td>   \n",
       "</tr>\n",
       "</table>\n",
       "<table class=\"simpletable\">\n",
       "<tr>\n",
       "      <td></td>       <th>Coef.</th>  <th>Std.Err.</th>     <th>z</th>     <th>P>|z|</th> <th>[0.025</th>  <th>0.975]</th> \n",
       "</tr>\n",
       "<tr>\n",
       "  <th>Intercept</th> <td>0.4623</td>   <td>0.3368</td>   <td>1.3725</td>  <td>0.1699</td> <td>-0.1979</td> <td>1.1224</td> \n",
       "</tr>\n",
       "<tr>\n",
       "  <th>age</th>       <td>-0.1227</td>  <td>0.0078</td>  <td>-15.8020</td> <td>0.0000</td> <td>-0.1379</td> <td>-0.1074</td>\n",
       "</tr>\n",
       "<tr>\n",
       "  <th>y11_1</th>     <td>-0.7076</td>  <td>0.1347</td>   <td>-5.2550</td> <td>0.0000</td> <td>-0.9715</td> <td>-0.4437</td>\n",
       "</tr>\n",
       "<tr>\n",
       "  <th>y11_2</th>     <td>-0.5559</td>  <td>0.1034</td>   <td>-5.3749</td> <td>0.0000</td> <td>-0.7586</td> <td>-0.3532</td>\n",
       "</tr>\n",
       "<tr>\n",
       "  <th>y14_1</th>     <td>-0.1884</td>  <td>0.1263</td>   <td>-1.4915</td> <td>0.1358</td> <td>-0.4359</td> <td>0.0592</td> \n",
       "</tr>\n",
       "<tr>\n",
       "  <th>y14_2</th>     <td>-0.3459</td>  <td>0.1028</td>   <td>-3.3659</td> <td>0.0008</td> <td>-0.5473</td> <td>-0.1445</td>\n",
       "</tr>\n",
       "<tr>\n",
       "  <th>full_wage</th> <td>-0.1016</td>  <td>0.0138</td>   <td>-7.3502</td> <td>0.0000</td> <td>-0.1286</td> <td>-0.0745</td>\n",
       "</tr>\n",
       "<tr>\n",
       "  <th>k31_3</th>     <td>0.9362</td>   <td>0.1736</td>   <td>5.3933</td>  <td>0.0000</td> <td>0.5960</td>  <td>1.2764</td> \n",
       "</tr>\n",
       "<tr>\n",
       "  <th>k31_6</th>     <td>-2.1790</td>  <td>0.1893</td>  <td>-11.5082</td> <td>0.0000</td> <td>-2.5502</td> <td>-1.8079</td>\n",
       "</tr>\n",
       "<tr>\n",
       "  <th>m4</th>        <td>0.1879</td>   <td>0.0123</td>   <td>15.2142</td> <td>0.0000</td> <td>0.1637</td>  <td>0.2121</td> \n",
       "</tr>\n",
       "<tr>\n",
       "  <th>y5_2</th>      <td>0.0597</td>   <td>0.1415</td>   <td>0.4216</td>  <td>0.6733</td> <td>-0.2177</td> <td>0.3371</td> \n",
       "</tr>\n",
       "<tr>\n",
       "  <th>y5_3</th>      <td>0.4606</td>   <td>0.1378</td>   <td>3.3412</td>  <td>0.0008</td> <td>0.1904</td>  <td>0.7307</td> \n",
       "</tr>\n",
       "<tr>\n",
       "  <th>y5_4</th>      <td>-0.2601</td>  <td>0.7893</td>   <td>-0.3295</td> <td>0.7418</td> <td>-1.8071</td> <td>1.2869</td> \n",
       "</tr>\n",
       "<tr>\n",
       "  <th>k15_1</th>     <td>0.3027</td>   <td>0.1094</td>   <td>2.7667</td>  <td>0.0057</td> <td>0.0883</td>  <td>0.5172</td> \n",
       "</tr>\n",
       "<tr>\n",
       "  <th>k15_2</th>     <td>0.1264</td>   <td>0.1462</td>   <td>0.8647</td>  <td>0.3872</td> <td>-0.1602</td> <td>0.4130</td> \n",
       "</tr>\n",
       "</table><br/>\n"
      ],
      "text/latex": [
       "\\begin{table}\n",
       "\\caption{Results: Logit}\n",
       "\\label{}\n",
       "\\begin{center}\n",
       "\\begin{tabular}{llll}\n",
       "\\hline\n",
       "Model:              & Logit             & Method:           & MLE          \\\\\n",
       "Dependent Variable: & poyavlenie\\_child & Pseudo R-squared: & 0.170        \\\\\n",
       "Date:               & 2023-12-19 03:09  & AIC:              & 3853.5181    \\\\\n",
       "No. Observations:   & 11726             & BIC:              & 3964.0615    \\\\\n",
       "Df Model:           & 14                & Log-Likelihood:   & -1911.8      \\\\\n",
       "Df Residuals:       & 11711             & LL-Null:          & -2303.3      \\\\\n",
       "Converged:          & 1.0000            & LLR p-value:      & 4.6423e-158  \\\\\n",
       "No. Iterations:     & 8.0000            & Scale:            & 1.0000       \\\\\n",
       "\\hline\n",
       "\\end{tabular}\n",
       "\\end{center}\n",
       "\n",
       "\\begin{center}\n",
       "\\begin{tabular}{lrrrrrr}\n",
       "\\hline\n",
       "           &   Coef. & Std.Err. &        z & P$> |$z$|$ &  [0.025 &  0.975]  \\\\\n",
       "\\hline\n",
       "Intercept  &  0.4623 &   0.3368 &   1.3725 &      0.1699 & -0.1979 &  1.1224  \\\\\n",
       "age        & -0.1227 &   0.0078 & -15.8020 &      0.0000 & -0.1379 & -0.1074  \\\\\n",
       "y11\\_1     & -0.7076 &   0.1347 &  -5.2550 &      0.0000 & -0.9715 & -0.4437  \\\\\n",
       "y11\\_2     & -0.5559 &   0.1034 &  -5.3749 &      0.0000 & -0.7586 & -0.3532  \\\\\n",
       "y14\\_1     & -0.1884 &   0.1263 &  -1.4915 &      0.1358 & -0.4359 &  0.0592  \\\\\n",
       "y14\\_2     & -0.3459 &   0.1028 &  -3.3659 &      0.0008 & -0.5473 & -0.1445  \\\\\n",
       "full\\_wage & -0.1016 &   0.0138 &  -7.3502 &      0.0000 & -0.1286 & -0.0745  \\\\\n",
       "k31\\_3     &  0.9362 &   0.1736 &   5.3933 &      0.0000 &  0.5960 &  1.2764  \\\\\n",
       "k31\\_6     & -2.1790 &   0.1893 & -11.5082 &      0.0000 & -2.5502 & -1.8079  \\\\\n",
       "m4         &  0.1879 &   0.0123 &  15.2142 &      0.0000 &  0.1637 &  0.2121  \\\\\n",
       "y5\\_2      &  0.0597 &   0.1415 &   0.4216 &      0.6733 & -0.2177 &  0.3371  \\\\\n",
       "y5\\_3      &  0.4606 &   0.1378 &   3.3412 &      0.0008 &  0.1904 &  0.7307  \\\\\n",
       "y5\\_4      & -0.2601 &   0.7893 &  -0.3295 &      0.7418 & -1.8071 &  1.2869  \\\\\n",
       "k15\\_1     &  0.3027 &   0.1094 &   2.7667 &      0.0057 &  0.0883 &  0.5172  \\\\\n",
       "k15\\_2     &  0.1264 &   0.1462 &   0.8647 &      0.3872 & -0.1602 &  0.4130  \\\\\n",
       "\\hline\n",
       "\\end{tabular}\n",
       "\\end{center}\n",
       "\\end{table}\n",
       "\\bigskip\n"
      ],
      "text/plain": [
       "<class 'statsmodels.iolib.summary2.Summary'>\n",
       "\"\"\"\n",
       "                          Results: Logit\n",
       "==================================================================\n",
       "Model:              Logit            Method:           MLE        \n",
       "Dependent Variable: poyavlenie_child Pseudo R-squared: 0.170      \n",
       "Date:               2023-12-19 03:09 AIC:              3853.5181  \n",
       "No. Observations:   11726            BIC:              3964.0615  \n",
       "Df Model:           14               Log-Likelihood:   -1911.8    \n",
       "Df Residuals:       11711            LL-Null:          -2303.3    \n",
       "Converged:          1.0000           LLR p-value:      4.6423e-158\n",
       "No. Iterations:     8.0000           Scale:            1.0000     \n",
       "-------------------------------------------------------------------\n",
       "               Coef.   Std.Err.     z      P>|z|    [0.025   0.975]\n",
       "-------------------------------------------------------------------\n",
       "Intercept      0.4623    0.3368    1.3725  0.1699  -0.1979   1.1224\n",
       "age           -0.1227    0.0078  -15.8020  0.0000  -0.1379  -0.1074\n",
       "y11_1         -0.7076    0.1347   -5.2550  0.0000  -0.9715  -0.4437\n",
       "y11_2         -0.5559    0.1034   -5.3749  0.0000  -0.7586  -0.3532\n",
       "y14_1         -0.1884    0.1263   -1.4915  0.1358  -0.4359   0.0592\n",
       "y14_2         -0.3459    0.1028   -3.3659  0.0008  -0.5473  -0.1445\n",
       "full_wage     -0.1016    0.0138   -7.3502  0.0000  -0.1286  -0.0745\n",
       "k31_3          0.9362    0.1736    5.3933  0.0000   0.5960   1.2764\n",
       "k31_6         -2.1790    0.1893  -11.5082  0.0000  -2.5502  -1.8079\n",
       "m4             0.1879    0.0123   15.2142  0.0000   0.1637   0.2121\n",
       "y5_2           0.0597    0.1415    0.4216  0.6733  -0.2177   0.3371\n",
       "y5_3           0.4606    0.1378    3.3412  0.0008   0.1904   0.7307\n",
       "y5_4          -0.2601    0.7893   -0.3295  0.7418  -1.8071   1.2869\n",
       "k15_1          0.3027    0.1094    2.7667  0.0057   0.0883   0.5172\n",
       "k15_2          0.1264    0.1462    0.8647  0.3872  -0.1602   0.4130\n",
       "==================================================================\n",
       "\n",
       "\"\"\""
      ]
     },
     "execution_count": 14,
     "metadata": {},
     "output_type": "execute_result"
    }
   ],
   "source": [
    "rg_full = smf.logit(\n",
    "    \"poyavlenie_child ~ age + y11_1 + y11_2 + y14_1 + y14_2 + full_wage + k31_3 + k31_6 + m4 + y5_2 + y5_3 + y5_4 + k15_1 + k15_2\",\n",
    "    data=df,\n",
    ").fit()\n",
    "rg_full.summary2()"
   ]
  },
  {
   "cell_type": "code",
   "execution_count": null,
   "metadata": {},
   "outputs": [],
   "source": [
    "rg_full = smf.logit(\n",
    "    \"poyavlenie_child ~ age + y11_1 + y11_2 + y14_1 + y14_2 + full_wage + k31_3 + k31_6 + m4 + y5_2 + y5_3 + y5_4 + k15_1 + k15_2\",\n",
    "    data=df[df.],\n",
    ").fit()\n",
    "rg_full.summary2()"
   ]
  },
  {
   "cell_type": "code",
   "execution_count": 10,
   "metadata": {},
   "outputs": [],
   "source": [
    "df['prediction'] = rg_full.predict(df)"
   ]
  },
  {
   "cell_type": "code",
   "execution_count": 11,
   "metadata": {},
   "outputs": [
    {
     "data": {
      "text/plain": [
       "0.2478887690088532"
      ]
     },
     "execution_count": 11,
     "metadata": {},
     "output_type": "execute_result"
    }
   ],
   "source": [
    "df.prediction.corr(df.poyavlenie_child)"
   ]
  },
  {
   "cell_type": "code",
   "execution_count": 12,
   "metadata": {},
   "outputs": [
    {
     "data": {
      "image/png": "[encoded data removed]",
      "text/plain": [
       "<Figure size 640x480 with 1 Axes>"
      ]
     },
     "execution_count": 12,
     "metadata": {},
     "output_type": "execute_result"
    },
    {
     "data": {
      "image/png": "[encoded data removed]",
      "text/plain": [
       "<Figure size 640x480 with 1 Axes>"
      ]
     },
     "metadata": {},
     "output_type": "display_data"
    }
   ],
   "source": [
    "fig, ax = plt.subplots()\n",
    "# sns.scatterplot(data=df, x='prediction', y='poyavlenie_child', ax=ax)\n",
    "sns.regplot(data=df, x='prediction', y='poyavlenie_child', logistic=True, ax=ax)\n",
    "fig"
   ]
  }
 ],
 "metadata": {
  "kernelspec": {
   "display_name": "Python 3",
   "language": "python",
   "name": "python3"
  },
  "language_info": {
   "codemirror_mode": {
    "name": "ipython",
    "version": 3
   },
   "file_extension": ".py",
   "mimetype": "text/x-python",
   "name": "python",
   "nbconvert_exporter": "python",
   "pygments_lexer": "ipython3",
   "version": "3.11.6"
  }
 },
 "nbformat": 4,
 "nbformat_minor": 2
}
