{
 "cells": [
  {
   "cell_type": "code",
   "execution_count": 1,
   "metadata": {},
   "outputs": [],
   "source": [
    "import pandas as pd\n",
    "import seaborn as sns\n",
    "import matplotlib.pyplot as plt"
   ]
  },
  {
   "cell_type": "code",
   "execution_count": 2,
   "metadata": {},
   "outputs": [
    {
     "data": {
      "text/plain": [
       "(         user_id  item_id last_watch_dt  total_dur  watched_pct\n",
       " 0         176549     9506    2021-05-11       4250         72.0\n",
       " 1         699317     1659    2021-05-29       8317        100.0\n",
       " 2         656683     7107    2021-05-09         10          0.0\n",
       " 3         864613     7638    2021-07-05      14483        100.0\n",
       " 4         964868     9506    2021-04-30       6725        100.0\n",
       " ...          ...      ...           ...        ...          ...\n",
       " 5476246   648596    12225    2021-08-13         76          0.0\n",
       " 5476247   546862     9673    2021-04-13       2308         49.0\n",
       " 5476248   697262    15297    2021-08-20      18307         63.0\n",
       " 5476249   384202    16197    2021-04-19       6203        100.0\n",
       " 5476250   319709     4436    2021-08-15       3921         45.0\n",
       " \n",
       " [5476251 rows x 5 columns],\n",
       "        Unnamed: 0  item_id content_type                               title  \\\n",
       " 0               0     1248         film                            55 шагов   \n",
       " 1               1     4918         film  G. I. Joe. Бросок кобры: Снейк Айз   \n",
       " 2               2    16441         film                          No comment   \n",
       " 3               3    12355         film                Photoshop. Установка   \n",
       " 4               4     8549         film                     [4k] Джек Ричер   \n",
       " ...           ...      ...          ...                                 ...   \n",
       " 15958       15958    11623         film                       Чудная долина   \n",
       " 15959       15959     5612         film                        Шёпот сердца   \n",
       " 15960       15960     3548         film                        Эмпайр Стэйт   \n",
       " 15961       15961    14308       series              Эскадрон гусар летучих   \n",
       " 15962       15962    14761         film                          Этим летом   \n",
       " \n",
       "                          title_orig  release_year  \\\n",
       " 0                          55 Steps        2017.0   \n",
       " 1      Snake Eyes: G.I. Joe Origins        2021.0   \n",
       " 2                               NaN        2014.0   \n",
       " 3              Photoshop. Ustanovka        2020.0   \n",
       " 4                      Jack Reacher        2012.0   \n",
       " ...                             ...           ...   \n",
       " 15958               Chudnaya dolina        2004.0   \n",
       " 15959                 SHepot serdca        2017.0   \n",
       " 15960                  Empire State        2012.0   \n",
       " 15961      Eskadron gusar letuchikh        1980.0   \n",
       " 15962                    Summer '03        2018.0   \n",
       " \n",
       "                                                   genres    countries  \\\n",
       " 0                                       драмы, биография     Германия   \n",
       " 1      приключения, фантастика, триллеры, боевики, фэ...  Канада, США   \n",
       " 2                                         драмы, русские       Россия   \n",
       " 3                                               no_genre       Россия   \n",
       " 4      криминал, детективы, зарубежные, триллеры, бое...          США   \n",
       " ...                                                  ...          ...   \n",
       " 15958                                            комедии       Россия   \n",
       " 15959                                              драмы       Россия   \n",
       " 15960                        драмы, зарубежные, криминал          США   \n",
       " 15961                                            военные       Россия   \n",
       " 15962                                зарубежные, комедии          США   \n",
       " \n",
       "        for_kids  age_rating    studios               directors  \\\n",
       " 0           NaN        16.0        NaN            Билле Аугуст   \n",
       " 1           NaN        16.0        NaN          Роберт Швентке   \n",
       " 2           NaN        16.0        NaN          Артём Темников   \n",
       " 3           NaN        12.0        NaN                     NaN   \n",
       " 4           NaN        16.0  Paramount     Кристофер МакКуорри   \n",
       " ...         ...         ...        ...                     ...   \n",
       " 15958       NaN        12.0        NaN            Рано Кубаева   \n",
       " 15959       NaN        12.0        NaN           Павел Судаков   \n",
       " 15960       NaN        16.0        NaN           Дито Монтиель   \n",
       " 15961       NaN        12.0        NaN  Н. Хубов, С. Ростоцкий   \n",
       " 15962       NaN        16.0        NaN            Бекка Глисон   \n",
       " \n",
       "                                                   actors  \\\n",
       " 0      Хелена Бонем Картер, Хилари Суэнк, Майкл Калки...   \n",
       " 1      Генри Голдинг, Эндрю Кодзи, Урсула Корберо, Ха...   \n",
       " 2      Александр Новин, Виталий Адасюк, Геннадий Ченц...   \n",
       " 3                                                    NaN   \n",
       " 4      Вернер Херцог, Джай Кортни, Джозеф Сикора, Дэв...   \n",
       " ...                                                  ...   \n",
       " 15958  Надежда Румянцева, Михаил Козаков, Игорь Десят...   \n",
       " 15959                                  Евгений Гришковец   \n",
       " 15960  Грегори Николас Вротсос, Джеймс Рэнсон, Джерри...   \n",
       " 15961  Андрей Ростоцкий, Марина Шиманская, Лидия Кузн...   \n",
       " 15962  Эрин Майя Дарк, Пол Шир, Джои Кинг, Андреа Сэв...   \n",
       " \n",
       "                                              description  \\\n",
       " 0      Борец за права пациентов клиник для душевнобол...   \n",
       " 1      Откройте для себя происхождение культового гер...   \n",
       " 2      Основанная на реальных событиях,  остросюжетна...   \n",
       " 3      Среди всех графических редакторов Photoshop яв...   \n",
       " 4      Смотрите в 4К! Остросюжетный боевик с элемента...   \n",
       " ...                                                  ...   \n",
       " 15958  Эта история началась в тот день, когда в дерев...   \n",
       " 15959  Евгений Гришковец, который «переменил представ...   \n",
       " 15960  Криминальная драма от Дито Монтиеля, режиссера...   \n",
       " 15961  Денис Давыдов - поэт и герой, человек, еще при...   \n",
       " 15962  16-летняя Джейми наслаждается долгожданными ка...   \n",
       " \n",
       "                                                 keywords      valid_from_dttm  \\\n",
       " 0      биография, юрист, психически больной, юридичес...  2019-10-10 09:56:00   \n",
       " 1      приквел, основанный на комиксе, на основе муль...  2021-08-13 17:08:14   \n",
       " 2      No, comment, 2014, Россия, армия, борьба, сист...  2019-10-13 15:56:05   \n",
       " 3                     Photoshop, Установка, 2020, Россия  2020-08-12 08:56:06   \n",
       " 4      4k, Джек, Ричер, 2012, США, борьба, системой, ...  2021-01-01 05:38:14   \n",
       " ...                                                  ...                  ...   \n",
       " 15958                       2004, россия, чудная, долина  2019-10-12 21:41:03   \n",
       " 15959                        2017, россия, шёпот, сердца  2021-02-15 16:55:40   \n",
       " 15960  Эмпайр, Стэйт, 2012, США, друзья, ограбления, ...  2019-10-13 15:41:53   \n",
       " 15961                                                NaN  2019-11-01 13:00:00   \n",
       " 15962                             Этим, летом, 2018, США  2019-10-13 16:11:19   \n",
       " \n",
       "        rating_kp  \n",
       " 0           7.49  \n",
       " 1           5.50  \n",
       " 2           6.30  \n",
       " 3            NaN  \n",
       " 4           7.20  \n",
       " ...          ...  \n",
       " 15958        NaN  \n",
       " 15959       8.10  \n",
       " 15960       5.20  \n",
       " 15961       7.80  \n",
       " 15962       5.40  \n",
       " \n",
       " [15963 rows x 17 columns],\n",
       "         user_id         age        income  sex  kids_flg\n",
       " 0        973171   age_25_34  income_60_90    М         1\n",
       " 1        962099   age_18_24  income_20_40    М         0\n",
       " 2       1047345   age_45_54  income_40_60    Ж         0\n",
       " 3        721985   age_45_54  income_20_40    Ж         0\n",
       " 4        704055   age_35_44  income_60_90    Ж         0\n",
       " ...         ...         ...           ...  ...       ...\n",
       " 840192   339025  age_65_inf   income_0_20    Ж         0\n",
       " 840193   983617   age_18_24  income_20_40    Ж         1\n",
       " 840194   251008         NaN           NaN  NaN         0\n",
       " 840195   590706         NaN           NaN    Ж         0\n",
       " 840196   166555  age_65_inf  income_20_40    Ж         0\n",
       " \n",
       " [840197 rows x 5 columns])"
      ]
     },
     "execution_count": 2,
     "metadata": {},
     "output_type": "execute_result"
    }
   ],
   "source": [
    "interactions = pd.read_csv('./kion_dataset_interactions')\n",
    "items = pd.read_csv('./kion_dataset_items')\n",
    "users  = pd.read_csv('./kion_dataset_users')\n",
    "interactions, items, users"
   ]
  },
  {
   "cell_type": "code",
   "execution_count": 3,
   "metadata": {},
   "outputs": [
    {
     "data": {
      "text/plain": [
       "<Axes: xlabel='total_dur', ylabel='Count'>"
      ]
     },
     "execution_count": 3,
     "metadata": {},
     "output_type": "execute_result"
    },
    {
     "data": {
      "image/png": "[encoded data removed]",
      "text/plain": [
       "<Figure size 640x480 with 1 Axes>"
      ]
     },
     "metadata": {},
     "output_type": "display_data"
    }
   ],
   "source": [
    "sns.histplot(interactions['total_dur'])"
   ]
  }
 ],
 "metadata": {
  "kernelspec": {
   "display_name": "Python 3",
   "language": "python",
   "name": "python3"
  },
  "language_info": {
   "codemirror_mode": {
    "name": "ipython",
    "version": 3
   },
   "file_extension": ".py",
   "mimetype": "text/x-python",
   "name": "python",
   "nbconvert_exporter": "python",
   "pygments_lexer": "ipython3",
   "version": "3.11.6"
  }
 },
 "nbformat": 4,
 "nbformat_minor": 2
}
