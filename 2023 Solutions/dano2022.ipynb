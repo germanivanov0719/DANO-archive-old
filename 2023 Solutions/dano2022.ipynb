{
 "cells": [
  {
   "cell_type": "code",
   "execution_count": 1,
   "metadata": {},
   "outputs": [],
   "source": [
    "import pandas as pd\n",
    "import matplotlib.pyplot as plt\n",
    "import seaborn as sns\n"
   ]
  },
  {
   "cell_type": "code",
   "execution_count": 7,
   "metadata": {},
   "outputs": [
    {
     "data": {
      "text/html": [
       "<div>\n",
       "<style scoped>\n",
       "    .dataframe tbody tr th:only-of-type {\n",
       "        vertical-align: middle;\n",
       "    }\n",
       "\n",
       "    .dataframe tbody tr th {\n",
       "        vertical-align: top;\n",
       "    }\n",
       "\n",
       "    .dataframe thead th {\n",
       "        text-align: right;\n",
       "    }\n",
       "</style>\n",
       "<table border=\"1\" class=\"dataframe\">\n",
       "  <thead>\n",
       "    <tr style=\"text-align: right;\">\n",
       "      <th></th>\n",
       "      <th>ID участника</th>\n",
       "      <th>id команды</th>\n",
       "      <th>Класс</th>\n",
       "      <th>Страна</th>\n",
       "      <th>Субъект</th>\n",
       "      <th>1 задача</th>\n",
       "      <th>2 задача</th>\n",
       "      <th>3 задача</th>\n",
       "      <th>4 задача</th>\n",
       "      <th>Задачный тур</th>\n",
       "      <th>Постановка задачи</th>\n",
       "      <th>Аналитический блок</th>\n",
       "      <th>Презентация</th>\n",
       "      <th>Проектный тур</th>\n",
       "      <th>Итого</th>\n",
       "    </tr>\n",
       "  </thead>\n",
       "  <tbody>\n",
       "    <tr>\n",
       "      <th>0</th>\n",
       "      <td>101</td>\n",
       "      <td>304</td>\n",
       "      <td>11</td>\n",
       "      <td>Россия</td>\n",
       "      <td>г. Москва</td>\n",
       "      <td>16.25</td>\n",
       "      <td>16.125</td>\n",
       "      <td>9.00</td>\n",
       "      <td>27.25</td>\n",
       "      <td>68.625</td>\n",
       "      <td>9.0</td>\n",
       "      <td>17.0</td>\n",
       "      <td>12.0</td>\n",
       "      <td>100.0</td>\n",
       "      <td>56</td>\n",
       "    </tr>\n",
       "    <tr>\n",
       "      <th>1</th>\n",
       "      <td>129</td>\n",
       "      <td>304</td>\n",
       "      <td>11</td>\n",
       "      <td>Россия</td>\n",
       "      <td>г. Санкт-Петербург</td>\n",
       "      <td>20.00</td>\n",
       "      <td>19.000</td>\n",
       "      <td>8.50</td>\n",
       "      <td>18.00</td>\n",
       "      <td>65.500</td>\n",
       "      <td>9.0</td>\n",
       "      <td>17.0</td>\n",
       "      <td>12.0</td>\n",
       "      <td>100.0</td>\n",
       "      <td>56</td>\n",
       "    </tr>\n",
       "    <tr>\n",
       "      <th>2</th>\n",
       "      <td>25</td>\n",
       "      <td>304</td>\n",
       "      <td>11</td>\n",
       "      <td>Россия</td>\n",
       "      <td>г. Санкт-Петербург</td>\n",
       "      <td>16.00</td>\n",
       "      <td>18.000</td>\n",
       "      <td>13.75</td>\n",
       "      <td>14.50</td>\n",
       "      <td>62.250</td>\n",
       "      <td>9.0</td>\n",
       "      <td>17.0</td>\n",
       "      <td>12.0</td>\n",
       "      <td>100.0</td>\n",
       "      <td>56</td>\n",
       "    </tr>\n",
       "    <tr>\n",
       "      <th>3</th>\n",
       "      <td>205</td>\n",
       "      <td>304</td>\n",
       "      <td>11</td>\n",
       "      <td>Россия</td>\n",
       "      <td>г. Москва</td>\n",
       "      <td>12.75</td>\n",
       "      <td>9.000</td>\n",
       "      <td>8.00</td>\n",
       "      <td>26.75</td>\n",
       "      <td>56.500</td>\n",
       "      <td>9.0</td>\n",
       "      <td>17.0</td>\n",
       "      <td>12.0</td>\n",
       "      <td>100.0</td>\n",
       "      <td>56</td>\n",
       "    </tr>\n",
       "    <tr>\n",
       "      <th>4</th>\n",
       "      <td>123</td>\n",
       "      <td>304</td>\n",
       "      <td>11</td>\n",
       "      <td>Россия</td>\n",
       "      <td>г. Санкт-Петербург</td>\n",
       "      <td>13.75</td>\n",
       "      <td>4.125</td>\n",
       "      <td>7.75</td>\n",
       "      <td>12.75</td>\n",
       "      <td>38.375</td>\n",
       "      <td>9.0</td>\n",
       "      <td>17.0</td>\n",
       "      <td>12.0</td>\n",
       "      <td>100.0</td>\n",
       "      <td>56</td>\n",
       "    </tr>\n",
       "  </tbody>\n",
       "</table>\n",
       "</div>"
      ],
      "text/plain": [
       "   ID участника  id команды  Класс  Страна             Субъект  1 задача  \\\n",
       "0           101         304     11  Россия           г. Москва     16.25   \n",
       "1           129         304     11  Россия  г. Санкт-Петербург     20.00   \n",
       "2            25         304     11  Россия  г. Санкт-Петербург     16.00   \n",
       "3           205         304     11  Россия           г. Москва     12.75   \n",
       "4           123         304     11  Россия  г. Санкт-Петербург     13.75   \n",
       "\n",
       "   2 задача  3 задача  4 задача  Задачный тур  Постановка задачи  \\\n",
       "0    16.125      9.00     27.25        68.625                9.0   \n",
       "1    19.000      8.50     18.00        65.500                9.0   \n",
       "2    18.000     13.75     14.50        62.250                9.0   \n",
       "3     9.000      8.00     26.75        56.500                9.0   \n",
       "4     4.125      7.75     12.75        38.375                9.0   \n",
       "\n",
       "   Аналитический блок  Презентация  Проектный тур  Итого  \n",
       "0                17.0         12.0          100.0     56  \n",
       "1                17.0         12.0          100.0     56  \n",
       "2                17.0         12.0          100.0     56  \n",
       "3                17.0         12.0          100.0     56  \n",
       "4                17.0         12.0          100.0     56  "
      ]
     },
     "execution_count": 7,
     "metadata": {},
     "output_type": "execute_result"
    }
   ],
   "source": [
    "df = pd.read_excel('./Результаты 2022.xlsx')\n",
    "df.head()"
   ]
  },
  {
   "cell_type": "code",
   "execution_count": 9,
   "metadata": {},
   "outputs": [
    {
     "data": {
      "text/plain": [
       "(40.79481132075472, 35.29621212121212)"
      ]
     },
     "execution_count": 9,
     "metadata": {},
     "output_type": "execute_result"
    }
   ],
   "source": [
    "moscow = df[df['Субъект'] == 'г. Москва']\n",
    "other = df[df['Субъект'] != 'г. Москва']\n",
    "moscow['Задачный тур'].mean(), other['Задачный тур'].mean()"
   ]
  },
  {
   "cell_type": "code",
   "execution_count": 19,
   "metadata": {},
   "outputs": [
    {
     "data": {
      "text/plain": [
       "0.9057051206763851"
      ]
     },
     "execution_count": 19,
     "metadata": {},
     "output_type": "execute_result"
    }
   ],
   "source": [
    "df.groupby('id команды').first()['Постановка задачи'].corr(df.groupby('id команды').first()['Аналитический блок'])"
   ]
  },
  {
   "cell_type": "code",
   "execution_count": 21,
   "metadata": {},
   "outputs": [
    {
     "data": {
      "text/plain": [
       "(27.46951219512195, 41.991883116883116)"
      ]
     },
     "execution_count": 21,
     "metadata": {},
     "output_type": "execute_result"
    }
   ],
   "source": [
    "df[df['Класс'] == 9]['Задачный тур'].mean(), df[df['Класс'] == 11]['Задачный тур'].mean()"
   ]
  }
 ],
 "metadata": {
  "kernelspec": {
   "display_name": "Python 3",
   "language": "python",
   "name": "python3"
  },
  "language_info": {
   "codemirror_mode": {
    "name": "ipython",
    "version": 3
   },
   "file_extension": ".py",
   "mimetype": "text/x-python",
   "name": "python",
   "nbconvert_exporter": "python",
   "pygments_lexer": "ipython3",
   "version": "3.11.6"
  }
 },
 "nbformat": 4,
 "nbformat_minor": 2
}
