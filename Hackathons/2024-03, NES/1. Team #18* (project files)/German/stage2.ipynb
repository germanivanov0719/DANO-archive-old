{
 "cells": [
  {
   "cell_type": "markdown",
   "metadata": {},
   "source": [
    "Исследовательский вопрос: Как взаимосвязаны характеристики фирмы с вовлечённостью данной фирмы в процесс “озеленения” производства?\n",
    "\n",
    "Гипотеза: Компании большего размера более вовлечены в “озеленение” производства\n"
   ]
  },
  {
   "cell_type": "code",
   "execution_count": 55,
   "metadata": {},
   "outputs": [],
   "source": [
    "import pandas as pd\n",
    "import scipy.stats as stats\n",
    "import seaborn as sns\n",
    "import matplotlib.pyplot as plt\n",
    "import numpy as np"
   ]
  },
  {
   "cell_type": "markdown",
   "metadata": {},
   "source": [
    "Установим уровень значимости для проверки гипотез равный $0.01$ просто потому что\n"
   ]
  },
  {
   "cell_type": "code",
   "execution_count": 56,
   "metadata": {},
   "outputs": [],
   "source": [
    "ALPHA = 0.01"
   ]
  },
  {
   "cell_type": "code",
   "execution_count": 57,
   "metadata": {},
   "outputs": [
    {
     "data": {
      "text/html": [
       "<div>\n",
       "<style scoped>\n",
       "    .dataframe tbody tr th:only-of-type {\n",
       "        vertical-align: middle;\n",
       "    }\n",
       "\n",
       "    .dataframe tbody tr th {\n",
       "        vertical-align: top;\n",
       "    }\n",
       "\n",
       "    .dataframe thead th {\n",
       "        text-align: right;\n",
       "    }\n",
       "</style>\n",
       "<table border=\"1\" class=\"dataframe\">\n",
       "  <thead>\n",
       "    <tr style=\"text-align: right;\">\n",
       "      <th></th>\n",
       "      <th>Unnamed: 0</th>\n",
       "      <th>id</th>\n",
       "      <th>a4a</th>\n",
       "      <th>a6a</th>\n",
       "      <th>a2</th>\n",
       "      <th>a0</th>\n",
       "      <th>b1</th>\n",
       "      <th>b5</th>\n",
       "      <th>b7a</th>\n",
       "      <th>d1a1x</th>\n",
       "      <th>...</th>\n",
       "      <th>BMGc23j</th>\n",
       "      <th>BMGc24</th>\n",
       "      <th>BMGc25</th>\n",
       "      <th>BMGc27</th>\n",
       "      <th>BMGd6</th>\n",
       "      <th>BMGd7</th>\n",
       "      <th>BMGe1</th>\n",
       "      <th>BMGe2</th>\n",
       "      <th>BMGe2u</th>\n",
       "      <th>ecology_index</th>\n",
       "    </tr>\n",
       "  </thead>\n",
       "  <tbody>\n",
       "    <tr>\n",
       "      <th>0</th>\n",
       "      <td>0</td>\n",
       "      <td>22</td>\n",
       "      <td>Готовые Металлические Изделия</td>\n",
       "      <td>Малый</td>\n",
       "      <td>Центральный Федеральный округ</td>\n",
       "      <td>Производство</td>\n",
       "      <td>Акционерная компания с неторгуемыми акциями ил...</td>\n",
       "      <td>2007</td>\n",
       "      <td>0</td>\n",
       "      <td>Производство Готовых Строительных Металлически...</td>\n",
       "      <td>...</td>\n",
       "      <td>0</td>\n",
       "      <td>Модернизация машин и оборудования</td>\n",
       "      <td>1</td>\n",
       "      <td>NaN</td>\n",
       "      <td>0</td>\n",
       "      <td>0</td>\n",
       "      <td>100000</td>\n",
       "      <td>20000</td>\n",
       "      <td>Литры</td>\n",
       "      <td>4</td>\n",
       "    </tr>\n",
       "    <tr>\n",
       "      <th>1</th>\n",
       "      <td>1</td>\n",
       "      <td>29</td>\n",
       "      <td>Машины и оборудование</td>\n",
       "      <td>Крупный</td>\n",
       "      <td>Центральный Федеральный округ</td>\n",
       "      <td>Производство</td>\n",
       "      <td>Акционерная компания с неторгуемыми акциями ил...</td>\n",
       "      <td>2002</td>\n",
       "      <td>0</td>\n",
       "      <td>Производство Насосов И Компрессоров</td>\n",
       "      <td>...</td>\n",
       "      <td>0</td>\n",
       "      <td>Модернизация машин и оборудования</td>\n",
       "      <td>0</td>\n",
       "      <td>Не является приоритетом по сравнению с другими...</td>\n",
       "      <td>0</td>\n",
       "      <td>0</td>\n",
       "      <td>160000</td>\n",
       "      <td>18500</td>\n",
       "      <td>Литры</td>\n",
       "      <td>3</td>\n",
       "    </tr>\n",
       "    <tr>\n",
       "      <th>2</th>\n",
       "      <td>2</td>\n",
       "      <td>34</td>\n",
       "      <td>Другое Производство</td>\n",
       "      <td>Средний</td>\n",
       "      <td>Центральный Федеральный округ</td>\n",
       "      <td>Производство</td>\n",
       "      <td>Акционерная компания с неторгуемыми акциями ил...</td>\n",
       "      <td>2005</td>\n",
       "      <td>0</td>\n",
       "      <td>Производство Алюминиевых И Медных Проводов, Си...</td>\n",
       "      <td>...</td>\n",
       "      <td>0</td>\n",
       "      <td>NaN</td>\n",
       "      <td>0</td>\n",
       "      <td>Нехватка финансовых ресурсов</td>\n",
       "      <td>0</td>\n",
       "      <td>0</td>\n",
       "      <td>Не знаю</td>\n",
       "      <td>Не знаю</td>\n",
       "      <td>NaN</td>\n",
       "      <td>0</td>\n",
       "    </tr>\n",
       "    <tr>\n",
       "      <th>3</th>\n",
       "      <td>3</td>\n",
       "      <td>50</td>\n",
       "      <td>Готовые Металлические Изделия</td>\n",
       "      <td>Малый</td>\n",
       "      <td>Центральный Федеральный округ</td>\n",
       "      <td>Другие услуги</td>\n",
       "      <td>Акционерная компания с неторгуемыми акциями ил...</td>\n",
       "      <td>2015</td>\n",
       "      <td>0</td>\n",
       "      <td>Строительство жилых и нежилых зданий</td>\n",
       "      <td>...</td>\n",
       "      <td>0</td>\n",
       "      <td>NaN</td>\n",
       "      <td>0</td>\n",
       "      <td>Операционный и/ или технический риск</td>\n",
       "      <td>0</td>\n",
       "      <td>0</td>\n",
       "      <td>Не знаю</td>\n",
       "      <td>Не знаю</td>\n",
       "      <td>NaN</td>\n",
       "      <td>0</td>\n",
       "    </tr>\n",
       "    <tr>\n",
       "      <th>4</th>\n",
       "      <td>4</td>\n",
       "      <td>56</td>\n",
       "      <td>Другие Услуги</td>\n",
       "      <td>Малый</td>\n",
       "      <td>Центральный Федеральный округ</td>\n",
       "      <td>Другие услуги</td>\n",
       "      <td>Акционерная компания с неторгуемыми акциями ил...</td>\n",
       "      <td>2002</td>\n",
       "      <td>0</td>\n",
       "      <td>Оптовая Продажа Офисной Мебели</td>\n",
       "      <td>...</td>\n",
       "      <td>0</td>\n",
       "      <td>Модернизация машин и оборудования</td>\n",
       "      <td>0</td>\n",
       "      <td>Нехватка финансовых ресурсов</td>\n",
       "      <td>0</td>\n",
       "      <td>0</td>\n",
       "      <td>100000</td>\n",
       "      <td>10000</td>\n",
       "      <td>Литры</td>\n",
       "      <td>2</td>\n",
       "    </tr>\n",
       "  </tbody>\n",
       "</table>\n",
       "<p>5 rows × 50 columns</p>\n",
       "</div>"
      ],
      "text/plain": [
       "   Unnamed: 0  id                            a4a      a6a  \\\n",
       "0           0  22  Готовые Металлические Изделия    Малый   \n",
       "1           1  29          Машины и оборудование  Крупный   \n",
       "2           2  34            Другое Производство  Средний   \n",
       "3           3  50  Готовые Металлические Изделия    Малый   \n",
       "4           4  56                  Другие Услуги    Малый   \n",
       "\n",
       "                              a2             a0  \\\n",
       "0  Центральный Федеральный округ   Производство   \n",
       "1  Центральный Федеральный округ   Производство   \n",
       "2  Центральный Федеральный округ   Производство   \n",
       "3  Центральный Федеральный округ  Другие услуги   \n",
       "4  Центральный Федеральный округ  Другие услуги   \n",
       "\n",
       "                                                  b1    b5 b7a  \\\n",
       "0  Акционерная компания с неторгуемыми акциями ил...  2007   0   \n",
       "1  Акционерная компания с неторгуемыми акциями ил...  2002   0   \n",
       "2  Акционерная компания с неторгуемыми акциями ил...  2005   0   \n",
       "3  Акционерная компания с неторгуемыми акциями ил...  2015   0   \n",
       "4  Акционерная компания с неторгуемыми акциями ил...  2002   0   \n",
       "\n",
       "                                               d1a1x  ... BMGc23j  \\\n",
       "0  Производство Готовых Строительных Металлически...  ...       0   \n",
       "1                Производство Насосов И Компрессоров  ...       0   \n",
       "2  Производство Алюминиевых И Медных Проводов, Си...  ...       0   \n",
       "3               Строительство жилых и нежилых зданий  ...       0   \n",
       "4                     Оптовая Продажа Офисной Мебели  ...       0   \n",
       "\n",
       "                              BMGc24  BMGc25  \\\n",
       "0  Модернизация машин и оборудования       1   \n",
       "1  Модернизация машин и оборудования       0   \n",
       "2                                NaN       0   \n",
       "3                                NaN       0   \n",
       "4  Модернизация машин и оборудования       0   \n",
       "\n",
       "                                              BMGc27 BMGd6 BMGd7    BMGe1  \\\n",
       "0                                                NaN     0     0   100000   \n",
       "1  Не является приоритетом по сравнению с другими...     0     0   160000   \n",
       "2                       Нехватка финансовых ресурсов     0     0  Не знаю   \n",
       "3               Операционный и/ или технический риск     0     0  Не знаю   \n",
       "4                       Нехватка финансовых ресурсов     0     0   100000   \n",
       "\n",
       "     BMGe2 BMGe2u ecology_index  \n",
       "0    20000  Литры             4  \n",
       "1    18500  Литры             3  \n",
       "2  Не знаю    NaN             0  \n",
       "3  Не знаю    NaN             0  \n",
       "4    10000  Литры             2  \n",
       "\n",
       "[5 rows x 50 columns]"
      ]
     },
     "execution_count": 57,
     "metadata": {},
     "output_type": "execute_result"
    }
   ],
   "source": [
    "df = pd.read_excel(\"../Google Chrome/added_index.xlsx\")\n",
    "df.head()"
   ]
  },
  {
   "cell_type": "markdown",
   "metadata": {},
   "source": [
    "Выделяем группы компаний по размеру бизнеса (переменная a6a)\n"
   ]
  },
  {
   "cell_type": "code",
   "execution_count": 58,
   "metadata": {},
   "outputs": [],
   "source": [
    "small = df[df[\"a6a\"] == \"Малый\"]\n",
    "average = df[df[\"a6a\"] == \"Средний\"]\n",
    "big = df[df[\"a6a\"] == \"Крупный\"]"
   ]
  },
  {
   "cell_type": "code",
   "execution_count": 59,
   "metadata": {},
   "outputs": [
    {
     "data": {
      "text/plain": [
       "Text(0.5, 0.98, 'Распределение индекса вовлеченности в \"озеленение\" производства')"
      ]
     },
     "execution_count": 59,
     "metadata": {},
     "output_type": "execute_result"
    },
    {
     "data": {
      "image/png": "[encoded data removed]",
      "text/plain": [
       "<Figure size 1920x1440 with 1 Axes>"
      ]
     },
     "metadata": {},
     "output_type": "display_data"
    }
   ],
   "source": [
    "fig, ax = plt.subplots()\n",
    "fig.set_dpi(300)\n",
    "sns.countplot(data=df, x=\"ecology_index\", ax=ax)\n",
    "fig.suptitle('Распределение индекса вовлеченности в \"озеленение\" производства')"
   ]
  },
  {
   "cell_type": "markdown",
   "metadata": {},
   "source": [
    "На всякий случай убедимся, что индекс не распределен нормально с помощью критерия Шапиро-Уилка\n"
   ]
  },
  {
   "cell_type": "code",
   "execution_count": 60,
   "metadata": {},
   "outputs": [
    {
     "data": {
      "text/plain": [
       "ShapiroResult(statistic=0.7561044692993164, pvalue=4.40271051960822e-27)"
      ]
     },
     "execution_count": 60,
     "metadata": {},
     "output_type": "execute_result"
    }
   ],
   "source": [
    "stats.shapiro(small[\"ecology_index\"])"
   ]
  },
  {
   "cell_type": "markdown",
   "metadata": {},
   "source": [
    "Проверим, что распределение индекса вовлеченности в \"озеленение\" производства различается между группами с помощью критерия Краскела-Уоллиса\n"
   ]
  },
  {
   "cell_type": "code",
   "execution_count": 61,
   "metadata": {},
   "outputs": [
    {
     "data": {
      "text/plain": [
       "KruskalResult(statistic=117.20371910938883, pvalue=3.544343183580764e-26)"
      ]
     },
     "execution_count": 61,
     "metadata": {},
     "output_type": "execute_result"
    }
   ],
   "source": [
    "stats.kruskal(small[\"ecology_index\"], average[\"ecology_index\"], big[\"ecology_index\"])"
   ]
  },
  {
   "cell_type": "markdown",
   "metadata": {},
   "source": [
    "Сравним попарно значения индекса для всех размеров компаний с попощью U-критерия Манна-Уитни\n"
   ]
  },
  {
   "cell_type": "code",
   "execution_count": 62,
   "metadata": {},
   "outputs": [
    {
     "name": "stdout",
     "output_type": "stream",
     "text": [
      "1.1854684512428297 1.835 p-value: 1.3306987657133372e-07\n"
     ]
    }
   ],
   "source": [
    "print(\n",
    "    small[\"ecology_index\"].mean(),\n",
    "    average[\"ecology_index\"].mean(),\n",
    "    \"p-value:\",\n",
    "    stats.mannwhitneyu(small[\"ecology_index\"], average[\"ecology_index\"]).pvalue,\n",
    ")"
   ]
  },
  {
   "cell_type": "code",
   "execution_count": 63,
   "metadata": {},
   "outputs": [
    {
     "name": "stdout",
     "output_type": "stream",
     "text": [
      "1.835 2.955 p-value: 1.0463673608414995e-08\n"
     ]
    }
   ],
   "source": [
    "print(\n",
    "    average[\"ecology_index\"].mean(),\n",
    "    big[\"ecology_index\"].mean(),\n",
    "    \"p-value:\",\n",
    "    stats.mannwhitneyu(average[\"ecology_index\"], big[\"ecology_index\"]).pvalue,\n",
    ")"
   ]
  },
  {
   "cell_type": "code",
   "execution_count": 64,
   "metadata": {},
   "outputs": [
    {
     "name": "stdout",
     "output_type": "stream",
     "text": [
      "1.1854684512428297 2.955 p-value: 3.1062060152137574e-26\n"
     ]
    }
   ],
   "source": [
    "print(\n",
    "    small[\"ecology_index\"].mean(),\n",
    "    big[\"ecology_index\"].mean(),\n",
    "    \"p-value:\",\n",
    "    stats.mannwhitneyu(small[\"ecology_index\"], big[\"ecology_index\"]).pvalue,\n",
    ")"
   ]
  },
  {
   "cell_type": "markdown",
   "metadata": {},
   "source": [
    "Применим к значениям p-value поправку Бонферрони (домножим на количество подгрупп) или stats.false_discovery_control, после этого сравним и с установленным значением уровня значимости `ALPHA`\n"
   ]
  },
  {
   "cell_type": "code",
   "execution_count": 65,
   "metadata": {},
   "outputs": [
    {
     "name": "stdout",
     "output_type": "stream",
     "text": [
      "[ True  True  True]\n",
      "[ True  True  True]\n"
     ]
    }
   ],
   "source": [
    "print(\n",
    "    stats.false_discovery_control(\n",
    "        [\n",
    "            stats.mannwhitneyu(small[\"ecology_index\"], big[\"ecology_index\"]).pvalue,\n",
    "            stats.mannwhitneyu(small[\"ecology_index\"], average[\"ecology_index\"]).pvalue,\n",
    "            stats.mannwhitneyu(average[\"ecology_index\"], big[\"ecology_index\"]).pvalue,\n",
    "        ]\n",
    "    )\n",
    "    < ALPHA\n",
    ")\n",
    "\n",
    "print(\n",
    "    np.array(\n",
    "        [\n",
    "            stats.mannwhitneyu(small[\"ecology_index\"], big[\"ecology_index\"]).pvalue,\n",
    "            stats.mannwhitneyu(small[\"ecology_index\"], average[\"ecology_index\"]).pvalue,\n",
    "            stats.mannwhitneyu(average[\"ecology_index\"], big[\"ecology_index\"]).pvalue,\n",
    "        ]\n",
    "    )\n",
    "    * 3\n",
    "    < ALPHA\n",
    ")"
   ]
  },
  {
   "cell_type": "markdown",
   "metadata": {},
   "source": [
    "Из того, что средние значения индекса с увеличением размера комании тоже возрастают и p-value меньше $\\alpha$, делаем вывод, что гипотеза не опровергается\n"
   ]
  },
  {
   "cell_type": "markdown",
   "metadata": {},
   "source": [
    "Проверим гипотезу на устойчивость по федеральным округам\n"
   ]
  },
  {
   "cell_type": "code",
   "execution_count": 66,
   "metadata": {},
   "outputs": [
    {
     "name": "stdout",
     "output_type": "stream",
     "text": [
      "ok\t Центральный Федеральный округ\n",
      "ok\t Северо-Западный федеральный округ\n",
      "ok\t Сибирский федеральный округ\n",
      "ok\t Дальневосточный федеральный округ\n",
      "ok\t Южный федеральный округ и Северо-Кавказский федеральный округ\n",
      "ok\t Уральский федеральный округ\n",
      "ok\t Приволжский федеральный округ\n"
     ]
    }
   ],
   "source": [
    "for fo in df[\"a2\"].unique():\n",
    "    if all(\n",
    "        [\n",
    "            stats.mannwhitneyu(small[\"ecology_index\"], big[\"ecology_index\"]).pvalue\n",
    "            < ALPHA,\n",
    "            stats.mannwhitneyu(small[\"ecology_index\"], average[\"ecology_index\"]).pvalue\n",
    "            < ALPHA,\n",
    "            stats.mannwhitneyu(average[\"ecology_index\"], big[\"ecology_index\"]).pvalue\n",
    "            < ALPHA,\n",
    "            small[\"ecology_index\"].mean() < average[\"ecology_index\"].mean(),\n",
    "            average[\"ecology_index\"].mean() < big[\"ecology_index\"].mean(),\n",
    "        ]\n",
    "    ):\n",
    "        print(\n",
    "            \"ok\\t\",\n",
    "            fo,\n",
    "        )\n",
    "    else:\n",
    "        print(\"not ok\\t\", fo)"
   ]
  },
  {
   "cell_type": "code",
   "execution_count": 73,
   "metadata": {},
   "outputs": [
    {
     "data": {
      "text/plain": [
       "a4a\n",
       "Готовые Металлические Изделия           141\n",
       "Другие Услуги                           264\n",
       "Другое Производство                     180\n",
       "Еда                                     157\n",
       "Машины и оборудование                   139\n",
       "Неметаллические Минеральные продукты    142\n",
       "Предметы одежды                         141\n",
       "Розничная торговля                      159\n",
       "Name: id, dtype: int64"
      ]
     },
     "execution_count": 73,
     "metadata": {},
     "output_type": "execute_result"
    }
   ],
   "source": [
    "df.groupby('a4a').id.count()"
   ]
  }
 ],
 "metadata": {
  "kernelspec": {
   "display_name": "Python 3",
   "language": "python",
   "name": "python3"
  },
  "language_info": {
   "codemirror_mode": {
    "name": "ipython",
    "version": 3
   },
   "file_extension": ".py",
   "mimetype": "text/x-python",
   "name": "python",
   "nbconvert_exporter": "python",
   "pygments_lexer": "ipython3",
   "version": "3.11.8"
  }
 },
 "nbformat": 4,
 "nbformat_minor": 2
}
