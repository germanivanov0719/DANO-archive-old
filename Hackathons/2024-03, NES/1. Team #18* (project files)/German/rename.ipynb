{
 "cells": [
  {
   "cell_type": "code",
   "execution_count": 52,
   "metadata": {},
   "outputs": [],
   "source": [
    "import pandas as pd\n",
    "import re"
   ]
  },
  {
   "cell_type": "code",
   "execution_count": 53,
   "metadata": {},
   "outputs": [
    {
     "name": "stdout",
     "output_type": "stream",
     "text": [
      "<class 'pandas.core.frame.DataFrame'>\n",
      "RangeIndex: 1034 entries, 0 to 1033\n",
      "Data columns (total 50 columns):\n",
      " #   Column               Non-Null Count  Dtype  \n",
      "---  ------               --------------  -----  \n",
      " 0   Unnamed: 0           1034 non-null   int64  \n",
      " 1   id                   1034 non-null   int64  \n",
      " 2   a4a                  1034 non-null   object \n",
      " 3   a6a                  1034 non-null   object \n",
      " 4   a2                   1034 non-null   object \n",
      " 5   a0                   1034 non-null   object \n",
      " 6   b1                   1034 non-null   object \n",
      " 7   b5                   1034 non-null   object \n",
      " 8   b7a                  1034 non-null   object \n",
      " 9   d1a1x                1034 non-null   object \n",
      " 10  g1a                  1034 non-null   object \n",
      " 11  BMj4c                1034 non-null   float64\n",
      " 12  j30_environment_pos  1034 non-null   int64  \n",
      " 13  BMj5                 1034 non-null   int64  \n",
      " 14  n2a                  1034 non-null   object \n",
      " 15  n2e                  671 non-null    object \n",
      " 16  n2b                  1034 non-null   object \n",
      " 17  n2f                  1034 non-null   object \n",
      " 18  n2i                  139 non-null    object \n",
      " 19  n2p                  671 non-null    object \n",
      " 20  BMGa1                1034 non-null   object \n",
      " 21  BMGa2                1034 non-null   object \n",
      " 22  BMGa4                1034 non-null   object \n",
      " 23  BMGb1                1034 non-null   object \n",
      " 24  BMGb2                1034 non-null   object \n",
      " 25  BMGc2                560 non-null    object \n",
      " 26  BMGc5                325 non-null    object \n",
      " 27  BMGc7                1034 non-null   object \n",
      " 28  BMGc8                127 non-null    object \n",
      " 29  BMGc16               1034 non-null   object \n",
      " 30  BMGc18               1034 non-null   object \n",
      " 31  BMGc23a              1034 non-null   int64  \n",
      " 32  BMGc23b              1034 non-null   int64  \n",
      " 33  BMGc23c              1034 non-null   int64  \n",
      " 34  BMGc23d              1034 non-null   int64  \n",
      " 35  BMGc23e              1034 non-null   int64  \n",
      " 36  BMGc23f              1034 non-null   int64  \n",
      " 37  BMGc23g              1034 non-null   int64  \n",
      " 38  BMGc23h              1034 non-null   int64  \n",
      " 39  BMGc23i              1034 non-null   int64  \n",
      " 40  BMGc23j              1034 non-null   int64  \n",
      " 41  BMGc24               445 non-null    object \n",
      " 42  BMGc25               1034 non-null   int64  \n",
      " 43  BMGc27               744 non-null    object \n",
      " 44  BMGd6                1034 non-null   object \n",
      " 45  BMGd7                1034 non-null   int64  \n",
      " 46  BMGe1                1034 non-null   int64  \n",
      " 47  BMGe2                1034 non-null   int64  \n",
      " 48  BMGe2u               0 non-null      float64\n",
      " 49  ecology_index        1034 non-null   int64  \n",
      "dtypes: float64(2), int64(19), object(29)\n",
      "memory usage: 404.0+ KB\n"
     ]
    }
   ],
   "source": [
    "df = pd.read_csv('./outliers_removed.csv')\n",
    "df.info()"
   ]
  },
  {
   "cell_type": "code",
   "execution_count": 54,
   "metadata": {},
   "outputs": [],
   "source": [
    "RENAME = {\n",
    "    \"a4a\": \"economic_sector\",\n",
    "    \"a6a\": \"company_size\",\n",
    "    \"a2\": \"federal_district\",\n",
    "    \"a0\": \"service_types\",\n",
    "    \"b1\": \"organization_form\",\n",
    "    \"b5\": \"initial_year\",\n",
    "    \"b7a\": \"is_director_woman\",\n",
    "    \"d1a1x\": \"main_product\",\n",
    "    \"g1a\": \"percentage_of_land_owned\",\n",
    "    \"BMj4c\": \"how_much_environmental_regulation_is_obstacle\",\n",
    "    \"j30_environment_pos\": \"environmental_regulation_rank_among_obstacles\",\n",
    "    \"BMj5\": \"most_important_gov_expenses_in_3_years\",\n",
    "    \"N2a\": \"total_expenses_on_labor_resource_for_prev_year\",\n",
    "    \"N2e\": \"total_expenses_on_materials_for_prev_year\",\n",
    "    \"N2b\": \"total_expenses_on_electricity_for_prev_year\",\n",
    "    \"N2f\": \"total_expenses_on_fuel_for_prev_year\",\n",
    "    \"N2i\": \"total_expenses_on_reselling_goods_for_prev_year\",\n",
    "    \"N2p\": \"total_expenses_on_selling_goods_for_prev_year\",\n",
    "    \"MGa1\": \"did_you_have_strategic_aims_on_ecological_improvement_prev_year\",\n",
    "    \"BMGa2\": \"did_you_have_ecological_manager_prev_year\",\n",
    "    \"BMGa4\": \"do_your_clients_require_ecological_certificate\",\n",
    "    \"BMGb1\": \"did_you_have_money_loss_caused_by_natural_disasters_for_prev_3_years\",\n",
    "    \"BMGb2\": \"did_you_have_money_loss_caused_by_pollution_for_prev_3_years\",\n",
    "    \"BMGc2\": \"how_often_did_you_track_energy_consumption_for_prev_3_years\",\n",
    "    \"BMGc5\": \"how_often_did_you_track_water_consumption_for_prev_3_years\",\n",
    "    \"BMGc7\": \"did_you_track_carbon_emissions_for_prev_3_years\",\n",
    "    \"BMGc8\": \"did_you_release_carbon_for_prev_3_years\",\n",
    "    \"BMGc16\": \"did_you_have_target_levels_of_energy_consumption_for_prev_3_years\",\n",
    "    \"BMGc18\": \"did_you_have_target_levels_of_carbon_emissions_for_prev_3_years\",\n",
    "    \"BMGc23a\": \"do_you_improve_heating_and_cooling_systems\",\n",
    "    \"BMGc23b\": \"do_you_apply_more_climate_friendly_energy_sources\",\n",
    "    \"BMGc23c\": \"do_you_modernize_the_equipment\",\n",
    "    \"BMGc23d\": \"do_you_manage_your_energy_consumption\",\n",
    "    \"BMGc23e\": \"do_you_minimize_and_recycle_your_waste\",\n",
    "    \"BMGc23f\": \"do_you_have_measures_to_limit_air_pollution\",\n",
    "    \"BMGc23g\": \"do_you_manage_your_water_consumption\",\n",
    "    \"BMGc23h\": \"do_you_modernize_vehicles_ships_and_aircraft\",\n",
    "    \"BMGc23i\": \"do_you_improve_lighting_systems\",\n",
    "    \"BMGc23j\": \"do_you_have_measures_to_limit_environment_pollution\",\n",
    "    \"BMGc24\": \"which_measure_has_contributed_the_most_to_reducing_environmental_impact\",\n",
    "    \"BMGc25\": \"have_you_taken_measures_to_improve_energy_efficiency_in_prev_3_years\",\n",
    "    \"BMGc27\": \"what_is_the_main_reason_why_energy_efficiency_measures_have_not_been_applied\",\n",
    "    \"BMGd6\": \"were_you_subjected_to_an_energy_consumption_in_the_last_fiscal_year\",\n",
    "    \"BMGd7\": \"did_you_have_to_follow_energy_consumption_standards_in_the_last_year\",\n",
    "    \"BMGe1\": \"amount_of_electricity_consumed_in_the_last_fiscal_year\",\n",
    "    \"BMGe2\": \"volume_of_gasoline_fuel_consumed_in_the_last_fiscal_year\",\n",
    "    \"BMGe2u\": \"units_of_the_volume_of_gasoline_consumed\",\n",
    "}"
   ]
  },
  {
   "cell_type": "code",
   "execution_count": 55,
   "metadata": {},
   "outputs": [
    {
     "name": "stdout",
     "output_type": "stream",
     "text": [
      "<class 'pandas.core.frame.DataFrame'>\n",
      "RangeIndex: 1034 entries, 0 to 1033\n",
      "Data columns (total 50 columns):\n",
      " #   Column                                                                        Non-Null Count  Dtype  \n",
      "---  ------                                                                        --------------  -----  \n",
      " 0   Unnamed: 0                                                                    1034 non-null   int64  \n",
      " 1   id                                                                            1034 non-null   int64  \n",
      " 2   economic_sector                                                               1034 non-null   object \n",
      " 3   company_size                                                                  1034 non-null   object \n",
      " 4   federal_district                                                              1034 non-null   object \n",
      " 5   service_types                                                                 1034 non-null   object \n",
      " 6   organization_form                                                             1034 non-null   object \n",
      " 7   initial_year                                                                  1034 non-null   object \n",
      " 8   is_director_woman                                                             1034 non-null   object \n",
      " 9   main_product                                                                  1034 non-null   object \n",
      " 10  percentage_of_land_owned                                                      1034 non-null   object \n",
      " 11  how_much_environmental_regulation_is_obstacle                                 1034 non-null   float64\n",
      " 12  environmental_regulation_rank_among_obstacles                                 1034 non-null   int64  \n",
      " 13  most_important_gov_expenses_in_3_years                                        1034 non-null   int64  \n",
      " 14  n2a                                                                           1034 non-null   object \n",
      " 15  n2e                                                                           671 non-null    object \n",
      " 16  n2b                                                                           1034 non-null   object \n",
      " 17  n2f                                                                           1034 non-null   object \n",
      " 18  n2i                                                                           139 non-null    object \n",
      " 19  n2p                                                                           671 non-null    object \n",
      " 20  BMGa1                                                                         1034 non-null   object \n",
      " 21  did_you_have_ecological_manager_prev_year                                     1034 non-null   object \n",
      " 22  do_your_clients_require_ecological_certificate                                1034 non-null   object \n",
      " 23  did_you_have_money_loss_caused_by_natural_disasters_for_prev_3_years          1034 non-null   object \n",
      " 24  did_you_have_money_loss_caused_by_pollution_for_prev_3_years                  1034 non-null   object \n",
      " 25  how_often_did_you_track_energy_consumption_for_prev_3_years                   560 non-null    object \n",
      " 26  how_often_did_you_track_water_consumption_for_prev_3_years                    325 non-null    object \n",
      " 27  did_you_track_carbon_emissions_for_prev_3_years                               1034 non-null   object \n",
      " 28  did_you_release_carbon_for_prev_3_years                                       127 non-null    object \n",
      " 29  did_you_have_target_levels_of_energy_consumption_for_prev_3_years             1034 non-null   object \n",
      " 30  did_you_have_target_levels_of_carbon_emissions_for_prev_3_years               1034 non-null   object \n",
      " 31  do_you_improve_heating_and_cooling_systems                                    1034 non-null   int64  \n",
      " 32  do_you_apply_more_climate_friendly_energy_sources                             1034 non-null   int64  \n",
      " 33  do_you_modernize_the_equipment                                                1034 non-null   int64  \n",
      " 34  do_you_manage_your_energy_consumption                                         1034 non-null   int64  \n",
      " 35  do_you_minimize_and_recycle_your_waste                                        1034 non-null   int64  \n",
      " 36  do_you_have_measures_to_limit_air_pollution                                   1034 non-null   int64  \n",
      " 37  do_you_manage_your_water_consumption                                          1034 non-null   int64  \n",
      " 38  do_you_modernize_vehicles_ships_and_aircraft                                  1034 non-null   int64  \n",
      " 39  do_you_improve_lighting_systems                                               1034 non-null   int64  \n",
      " 40  do_you_have_measures_to_limit_environment_pollution                           1034 non-null   int64  \n",
      " 41  which_measure_has_contributed_the_most_to_reducing_environmental_impact       445 non-null    object \n",
      " 42  have_you_taken_measures_to_improve_energy_efficiency_in_prev_3_years          1034 non-null   int64  \n",
      " 43  what_is_the_main_reason_why_energy_efficiency_measures_have_not_been_applied  744 non-null    object \n",
      " 44  were_you_subjected_to_an_energy_consumption_in_the_last_fiscal_year           1034 non-null   object \n",
      " 45  did_you_have_to_follow_energy_consumption_standards_in_the_last_year          1034 non-null   int64  \n",
      " 46  amount_of_electricity_consumed_in_the_last_fiscal_year                        1034 non-null   int64  \n",
      " 47  volume_of_gasoline_fuel_consumed_in_the_last_fiscal_year                      1034 non-null   int64  \n",
      " 48  units_of_the_volume_of_gasoline_consumed                                      0 non-null      float64\n",
      " 49  ecology_index                                                                 1034 non-null   int64  \n",
      "dtypes: float64(2), int64(19), object(29)\n",
      "memory usage: 404.0+ KB\n"
     ]
    }
   ],
   "source": [
    "df_new = df.rename(columns=RENAME)\n",
    "df_new.info()"
   ]
  },
  {
   "cell_type": "code",
   "execution_count": 56,
   "metadata": {},
   "outputs": [
    {
     "name": "stdout",
     "output_type": "stream",
     "text": [
      "<class 'pandas.core.frame.DataFrame'>\n",
      "RangeIndex: 1034 entries, 0 to 1033\n",
      "Data columns (total 43 columns):\n",
      " #   Column                                                                        Non-Null Count  Dtype  \n",
      "---  ------                                                                        --------------  -----  \n",
      " 0   Unnamed: 0                                                                    1034 non-null   int64  \n",
      " 1   id                                                                            1034 non-null   int64  \n",
      " 2   economic_sector                                                               1034 non-null   object \n",
      " 3   company_size                                                                  1034 non-null   object \n",
      " 4   federal_district                                                              1034 non-null   object \n",
      " 5   service_types                                                                 1034 non-null   object \n",
      " 6   organization_form                                                             1034 non-null   object \n",
      " 7   initial_year                                                                  1034 non-null   object \n",
      " 8   is_director_woman                                                             1034 non-null   object \n",
      " 9   main_product                                                                  1034 non-null   object \n",
      " 10  percentage_of_land_owned                                                      1034 non-null   object \n",
      " 11  how_much_environmental_regulation_is_obstacle                                 1034 non-null   float64\n",
      " 12  environmental_regulation_rank_among_obstacles                                 1034 non-null   int64  \n",
      " 13  most_important_gov_expenses_in_3_years                                        1034 non-null   int64  \n",
      " 14  did_you_have_ecological_manager_prev_year                                     1034 non-null   object \n",
      " 15  do_your_clients_require_ecological_certificate                                1034 non-null   object \n",
      " 16  did_you_have_money_loss_caused_by_natural_disasters_for_prev_3_years          1034 non-null   object \n",
      " 17  did_you_have_money_loss_caused_by_pollution_for_prev_3_years                  1034 non-null   object \n",
      " 18  how_often_did_you_track_energy_consumption_for_prev_3_years                   560 non-null    object \n",
      " 19  how_often_did_you_track_water_consumption_for_prev_3_years                    325 non-null    object \n",
      " 20  did_you_track_carbon_emissions_for_prev_3_years                               1034 non-null   object \n",
      " 21  did_you_release_carbon_for_prev_3_years                                       127 non-null    object \n",
      " 22  did_you_have_target_levels_of_energy_consumption_for_prev_3_years             1034 non-null   object \n",
      " 23  did_you_have_target_levels_of_carbon_emissions_for_prev_3_years               1034 non-null   object \n",
      " 24  do_you_improve_heating_and_cooling_systems                                    1034 non-null   int64  \n",
      " 25  do_you_apply_more_climate_friendly_energy_sources                             1034 non-null   int64  \n",
      " 26  do_you_modernize_the_equipment                                                1034 non-null   int64  \n",
      " 27  do_you_manage_your_energy_consumption                                         1034 non-null   int64  \n",
      " 28  do_you_minimize_and_recycle_your_waste                                        1034 non-null   int64  \n",
      " 29  do_you_have_measures_to_limit_air_pollution                                   1034 non-null   int64  \n",
      " 30  do_you_manage_your_water_consumption                                          1034 non-null   int64  \n",
      " 31  do_you_modernize_vehicles_ships_and_aircraft                                  1034 non-null   int64  \n",
      " 32  do_you_improve_lighting_systems                                               1034 non-null   int64  \n",
      " 33  do_you_have_measures_to_limit_environment_pollution                           1034 non-null   int64  \n",
      " 34  which_measure_has_contributed_the_most_to_reducing_environmental_impact       445 non-null    object \n",
      " 35  have_you_taken_measures_to_improve_energy_efficiency_in_prev_3_years          1034 non-null   int64  \n",
      " 36  what_is_the_main_reason_why_energy_efficiency_measures_have_not_been_applied  744 non-null    object \n",
      " 37  were_you_subjected_to_an_energy_consumption_in_the_last_fiscal_year           1034 non-null   object \n",
      " 38  did_you_have_to_follow_energy_consumption_standards_in_the_last_year          1034 non-null   int64  \n",
      " 39  amount_of_electricity_consumed_in_the_last_fiscal_year                        1034 non-null   int64  \n",
      " 40  volume_of_gasoline_fuel_consumed_in_the_last_fiscal_year                      1034 non-null   int64  \n",
      " 41  units_of_the_volume_of_gasoline_consumed                                      0 non-null      float64\n",
      " 42  ecology_index                                                                 1034 non-null   int64  \n",
      "dtypes: float64(2), int64(19), object(22)\n",
      "memory usage: 347.5+ KB\n"
     ]
    }
   ],
   "source": [
    "df_new_dropped = df_new.drop(\n",
    "    columns=list(filter(lambda x: re.match(\"n2.\", x), df_new.columns)) + [\"BMGa1\"]\n",
    ")\n",
    "df_new_dropped.info()"
   ]
  },
  {
   "cell_type": "code",
   "execution_count": 57,
   "metadata": {},
   "outputs": [],
   "source": [
    "df_new_dropped.to_csv('~/Downloads/df_for_polymer.csv')"
   ]
  },
  {
   "cell_type": "code",
   "execution_count": 58,
   "metadata": {},
   "outputs": [
    {
     "data": {
      "text/plain": [
       "12000"
      ]
     },
     "execution_count": 58,
     "metadata": {},
     "output_type": "execute_result"
    }
   ],
   "source": [
    "df_new_dropped.amount_of_electricity_consumed_in_the_last_fiscal_year.max()"
   ]
  }
 ],
 "metadata": {
  "kernelspec": {
   "display_name": "base",
   "language": "python",
   "name": "python3"
  },
  "language_info": {
   "codemirror_mode": {
    "name": "ipython",
    "version": 3
   },
   "file_extension": ".py",
   "mimetype": "text/x-python",
   "name": "python",
   "nbconvert_exporter": "python",
   "pygments_lexer": "ipython3",
   "version": "3.11.7"
  }
 },
 "nbformat": 4,
 "nbformat_minor": 2
}
