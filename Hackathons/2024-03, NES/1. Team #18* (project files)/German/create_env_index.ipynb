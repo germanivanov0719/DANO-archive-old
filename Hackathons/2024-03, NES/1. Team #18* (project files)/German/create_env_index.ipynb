{
 "cells": [
  {
   "cell_type": "code",
   "execution_count": 11,
   "metadata": {},
   "outputs": [],
   "source": [
    "import pandas as pd\n",
    "import matplotlib.pyplot as plt\n",
    "import seaborn as sns\n",
    "%matplotlib inline\n",
    "%config InlineBackend.figure_format = 'retina'"
   ]
  },
  {
   "cell_type": "code",
   "execution_count": 12,
   "metadata": {},
   "outputs": [
    {
     "data": {
      "text/html": [
       "<div>\n",
       "<style scoped>\n",
       "    .dataframe tbody tr th:only-of-type {\n",
       "        vertical-align: middle;\n",
       "    }\n",
       "\n",
       "    .dataframe tbody tr th {\n",
       "        vertical-align: top;\n",
       "    }\n",
       "\n",
       "    .dataframe thead th {\n",
       "        text-align: right;\n",
       "    }\n",
       "</style>\n",
       "<table border=\"1\" class=\"dataframe\">\n",
       "  <thead>\n",
       "    <tr style=\"text-align: right;\">\n",
       "      <th></th>\n",
       "      <th>id</th>\n",
       "      <th>a4a</th>\n",
       "      <th>a6a</th>\n",
       "      <th>a2</th>\n",
       "      <th>a0</th>\n",
       "      <th>b1</th>\n",
       "      <th>b5</th>\n",
       "      <th>b7a</th>\n",
       "      <th>d1a1x</th>\n",
       "      <th>g1a</th>\n",
       "      <th>...</th>\n",
       "      <th>BMGc23i</th>\n",
       "      <th>BMGc23j</th>\n",
       "      <th>BMGc24</th>\n",
       "      <th>BMGc25</th>\n",
       "      <th>BMGc27</th>\n",
       "      <th>BMGd6</th>\n",
       "      <th>BMGd7</th>\n",
       "      <th>BMGe1</th>\n",
       "      <th>BMGe2</th>\n",
       "      <th>BMGe2u</th>\n",
       "    </tr>\n",
       "  </thead>\n",
       "  <tbody>\n",
       "    <tr>\n",
       "      <th>0</th>\n",
       "      <td>22</td>\n",
       "      <td>Готовые Металлические Изделия</td>\n",
       "      <td>Малый</td>\n",
       "      <td>Центральный Федеральный округ</td>\n",
       "      <td>Производство</td>\n",
       "      <td>Акционерная компания с неторгуемыми акциями ил...</td>\n",
       "      <td>2007</td>\n",
       "      <td>0</td>\n",
       "      <td>Производство Готовых Строительных Металлически...</td>\n",
       "      <td>0</td>\n",
       "      <td>...</td>\n",
       "      <td>1</td>\n",
       "      <td>0</td>\n",
       "      <td>Модернизация машин и оборудования</td>\n",
       "      <td>1</td>\n",
       "      <td>NaN</td>\n",
       "      <td>0</td>\n",
       "      <td>0</td>\n",
       "      <td>100000</td>\n",
       "      <td>20000</td>\n",
       "      <td>Литры</td>\n",
       "    </tr>\n",
       "    <tr>\n",
       "      <th>1</th>\n",
       "      <td>29</td>\n",
       "      <td>Машины и оборудование</td>\n",
       "      <td>Крупный</td>\n",
       "      <td>Центральный Федеральный округ</td>\n",
       "      <td>Производство</td>\n",
       "      <td>Акционерная компания с неторгуемыми акциями ил...</td>\n",
       "      <td>2002</td>\n",
       "      <td>0</td>\n",
       "      <td>Производство Насосов И Компрессоров</td>\n",
       "      <td>0</td>\n",
       "      <td>...</td>\n",
       "      <td>0</td>\n",
       "      <td>0</td>\n",
       "      <td>Модернизация машин и оборудования</td>\n",
       "      <td>0</td>\n",
       "      <td>Не является приоритетом по сравнению с другими...</td>\n",
       "      <td>0</td>\n",
       "      <td>0</td>\n",
       "      <td>160000</td>\n",
       "      <td>18500</td>\n",
       "      <td>Литры</td>\n",
       "    </tr>\n",
       "    <tr>\n",
       "      <th>2</th>\n",
       "      <td>34</td>\n",
       "      <td>Другое Производство</td>\n",
       "      <td>Средний</td>\n",
       "      <td>Центральный Федеральный округ</td>\n",
       "      <td>Производство</td>\n",
       "      <td>Акционерная компания с неторгуемыми акциями ил...</td>\n",
       "      <td>2005</td>\n",
       "      <td>0</td>\n",
       "      <td>Производство Алюминиевых И Медных Проводов, Си...</td>\n",
       "      <td>100</td>\n",
       "      <td>...</td>\n",
       "      <td>1</td>\n",
       "      <td>0</td>\n",
       "      <td>NaN</td>\n",
       "      <td>0</td>\n",
       "      <td>Нехватка финансовых ресурсов</td>\n",
       "      <td>0</td>\n",
       "      <td>0</td>\n",
       "      <td>Не знаю</td>\n",
       "      <td>Не знаю</td>\n",
       "      <td>NaN</td>\n",
       "    </tr>\n",
       "    <tr>\n",
       "      <th>3</th>\n",
       "      <td>50</td>\n",
       "      <td>Готовые Металлические Изделия</td>\n",
       "      <td>Малый</td>\n",
       "      <td>Центральный Федеральный округ</td>\n",
       "      <td>Другие услуги</td>\n",
       "      <td>Акционерная компания с неторгуемыми акциями ил...</td>\n",
       "      <td>2015</td>\n",
       "      <td>0</td>\n",
       "      <td>Строительство жилых и нежилых зданий</td>\n",
       "      <td>0</td>\n",
       "      <td>...</td>\n",
       "      <td>0</td>\n",
       "      <td>0</td>\n",
       "      <td>NaN</td>\n",
       "      <td>0</td>\n",
       "      <td>Операционный и/ или технический риск</td>\n",
       "      <td>0</td>\n",
       "      <td>0</td>\n",
       "      <td>Не знаю</td>\n",
       "      <td>Не знаю</td>\n",
       "      <td>NaN</td>\n",
       "    </tr>\n",
       "    <tr>\n",
       "      <th>4</th>\n",
       "      <td>56</td>\n",
       "      <td>Другие Услуги</td>\n",
       "      <td>Малый</td>\n",
       "      <td>Центральный Федеральный округ</td>\n",
       "      <td>Другие услуги</td>\n",
       "      <td>Акционерная компания с неторгуемыми акциями ил...</td>\n",
       "      <td>2002</td>\n",
       "      <td>0</td>\n",
       "      <td>Оптовая Продажа Офисной Мебели</td>\n",
       "      <td>0</td>\n",
       "      <td>...</td>\n",
       "      <td>1</td>\n",
       "      <td>0</td>\n",
       "      <td>Модернизация машин и оборудования</td>\n",
       "      <td>0</td>\n",
       "      <td>Нехватка финансовых ресурсов</td>\n",
       "      <td>0</td>\n",
       "      <td>0</td>\n",
       "      <td>100000</td>\n",
       "      <td>10000</td>\n",
       "      <td>Литры</td>\n",
       "    </tr>\n",
       "  </tbody>\n",
       "</table>\n",
       "<p>5 rows × 48 columns</p>\n",
       "</div>"
      ],
      "text/plain": [
       "   id                            a4a      a6a                             a2  \\\n",
       "0  22  Готовые Металлические Изделия    Малый  Центральный Федеральный округ   \n",
       "1  29          Машины и оборудование  Крупный  Центральный Федеральный округ   \n",
       "2  34            Другое Производство  Средний  Центральный Федеральный округ   \n",
       "3  50  Готовые Металлические Изделия    Малый  Центральный Федеральный округ   \n",
       "4  56                  Другие Услуги    Малый  Центральный Федеральный округ   \n",
       "\n",
       "              a0                                                 b1    b5 b7a  \\\n",
       "0   Производство  Акционерная компания с неторгуемыми акциями ил...  2007   0   \n",
       "1   Производство  Акционерная компания с неторгуемыми акциями ил...  2002   0   \n",
       "2   Производство  Акционерная компания с неторгуемыми акциями ил...  2005   0   \n",
       "3  Другие услуги  Акционерная компания с неторгуемыми акциями ил...  2015   0   \n",
       "4  Другие услуги  Акционерная компания с неторгуемыми акциями ил...  2002   0   \n",
       "\n",
       "                                               d1a1x  g1a  ...  BMGc23i  \\\n",
       "0  Производство Готовых Строительных Металлически...    0  ...        1   \n",
       "1                Производство Насосов И Компрессоров    0  ...        0   \n",
       "2  Производство Алюминиевых И Медных Проводов, Си...  100  ...        1   \n",
       "3               Строительство жилых и нежилых зданий    0  ...        0   \n",
       "4                     Оптовая Продажа Офисной Мебели    0  ...        1   \n",
       "\n",
       "   BMGc23j                             BMGc24 BMGc25  \\\n",
       "0        0  Модернизация машин и оборудования      1   \n",
       "1        0  Модернизация машин и оборудования      0   \n",
       "2        0                                NaN      0   \n",
       "3        0                                NaN      0   \n",
       "4        0  Модернизация машин и оборудования      0   \n",
       "\n",
       "                                              BMGc27 BMGd6 BMGd7    BMGe1  \\\n",
       "0                                                NaN     0     0   100000   \n",
       "1  Не является приоритетом по сравнению с другими...     0     0   160000   \n",
       "2                       Нехватка финансовых ресурсов     0     0  Не знаю   \n",
       "3               Операционный и/ или технический риск     0     0  Не знаю   \n",
       "4                       Нехватка финансовых ресурсов     0     0   100000   \n",
       "\n",
       "     BMGe2 BMGe2u  \n",
       "0    20000  Литры  \n",
       "1    18500  Литры  \n",
       "2  Не знаю    NaN  \n",
       "3  Не знаю    NaN  \n",
       "4    10000  Литры  \n",
       "\n",
       "[5 rows x 48 columns]"
      ]
     },
     "execution_count": 12,
     "metadata": {},
     "output_type": "execute_result"
    }
   ],
   "source": [
    "df = pd.read_excel('./Copy of ecology.xlsx')\n",
    "df.head()"
   ]
  },
  {
   "cell_type": "code",
   "execution_count": 13,
   "metadata": {},
   "outputs": [],
   "source": [
    "cols = [\"BMGc23\" + c for c in \"abcdefghj\"]\n"
   ]
  },
  {
   "cell_type": "code",
   "execution_count": 14,
   "metadata": {},
   "outputs": [],
   "source": [
    "# whatever this is, it works (i guess)\n",
    "def get_index(data):\n",
    "    index = 0\n",
    "    try:\n",
    "        for col in cols:\n",
    "            index += data[col].values[0]\n",
    "    except Exception:\n",
    "        return None\n",
    "    return index"
   ]
  },
  {
   "cell_type": "code",
   "execution_count": 15,
   "metadata": {},
   "outputs": [
    {
     "data": {
      "text/plain": [
       "0       4.0\n",
       "1       3.0\n",
       "2       0.0\n",
       "3       0.0\n",
       "4       NaN\n",
       "       ... \n",
       "1318    3.0\n",
       "1319    3.0\n",
       "1320    1.0\n",
       "1321    4.0\n",
       "1322    6.0\n",
       "Name: ecology_index, Length: 1323, dtype: float64"
      ]
     },
     "execution_count": 15,
     "metadata": {},
     "output_type": "execute_result"
    }
   ],
   "source": [
    "df['ecology_index'] = df['id'].apply(lambda x: get_index(df[df['id'] == x]))\n",
    "df['ecology_index']"
   ]
  },
  {
   "cell_type": "code",
   "execution_count": 16,
   "metadata": {},
   "outputs": [],
   "source": [
    "df.to_csv('ecology_with_new_index.csv')"
   ]
  },
  {
   "cell_type": "code",
   "execution_count": 17,
   "metadata": {},
   "outputs": [
    {
     "data": {
      "text/plain": [
       "<Axes: xlabel='ecology_index', ylabel='id'>"
      ]
     },
     "execution_count": 17,
     "metadata": {},
     "output_type": "execute_result"
    },
    {
     "data": {
      "image/png": "[encoded data removed]",
      "text/plain": [
       "<Figure size 640x480 with 1 Axes>"
      ]
     },
     "metadata": {
      "image/png": {
       "height": 433,
       "width": 571
      }
     },
     "output_type": "display_data"
    }
   ],
   "source": [
    "fig, ax = plt.subplots()\n",
    "sns.barplot(df.groupby('ecology_index').count()['id']) # type: ignore\n"
   ]
  }
 ],
 "metadata": {
  "kernelspec": {
   "display_name": "Python 3",
   "language": "python",
   "name": "python3"
  },
  "language_info": {
   "codemirror_mode": {
    "name": "ipython",
    "version": 3
   },
   "file_extension": ".py",
   "mimetype": "text/x-python",
   "name": "python",
   "nbconvert_exporter": "python",
   "pygments_lexer": "ipython3",
   "version": "3.11.8"
  }
 },
 "nbformat": 4,
 "nbformat_minor": 2
}
