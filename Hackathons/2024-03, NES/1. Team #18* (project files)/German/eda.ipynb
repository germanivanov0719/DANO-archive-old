{
 "cells": [
  {
   "cell_type": "code",
   "execution_count": 1,
   "metadata": {},
   "outputs": [],
   "source": [
    "import pandas as pd\n",
    "import matplotlib.pyplot as plt"
   ]
  },
  {
   "cell_type": "code",
   "execution_count": 3,
   "metadata": {},
   "outputs": [
    {
     "data": {
      "text/html": [
       "<div>\n",
       "<style scoped>\n",
       "    .dataframe tbody tr th:only-of-type {\n",
       "        vertical-align: middle;\n",
       "    }\n",
       "\n",
       "    .dataframe tbody tr th {\n",
       "        vertical-align: top;\n",
       "    }\n",
       "\n",
       "    .dataframe thead th {\n",
       "        text-align: right;\n",
       "    }\n",
       "</style>\n",
       "<table border=\"1\" class=\"dataframe\">\n",
       "  <thead>\n",
       "    <tr style=\"text-align: right;\">\n",
       "      <th></th>\n",
       "      <th>id</th>\n",
       "      <th>a4a</th>\n",
       "      <th>a6a</th>\n",
       "      <th>a2</th>\n",
       "      <th>a0</th>\n",
       "      <th>b1</th>\n",
       "      <th>b5</th>\n",
       "      <th>b7a</th>\n",
       "      <th>d1a1x</th>\n",
       "      <th>g1a</th>\n",
       "      <th>...</th>\n",
       "      <th>BMGc23i</th>\n",
       "      <th>BMGc23j</th>\n",
       "      <th>BMGc24</th>\n",
       "      <th>BMGc25</th>\n",
       "      <th>BMGc27</th>\n",
       "      <th>BMGd6</th>\n",
       "      <th>BMGd7</th>\n",
       "      <th>BMGe1</th>\n",
       "      <th>BMGe2</th>\n",
       "      <th>BMGe2u</th>\n",
       "    </tr>\n",
       "  </thead>\n",
       "  <tbody>\n",
       "    <tr>\n",
       "      <th>0</th>\n",
       "      <td>22</td>\n",
       "      <td>Готовые Металлические Изделия</td>\n",
       "      <td>Малый</td>\n",
       "      <td>Центральный Федеральный округ</td>\n",
       "      <td>Производство</td>\n",
       "      <td>Акционерная компания с неторгуемыми акциями ил...</td>\n",
       "      <td>2007</td>\n",
       "      <td>Нет</td>\n",
       "      <td>Производство Готовых Строительных Металлически...</td>\n",
       "      <td>0</td>\n",
       "      <td>...</td>\n",
       "      <td>Да</td>\n",
       "      <td>Нет</td>\n",
       "      <td>Модернизация машин и оборудования</td>\n",
       "      <td>Да</td>\n",
       "      <td>NaN</td>\n",
       "      <td>Нет</td>\n",
       "      <td>Нет</td>\n",
       "      <td>100000</td>\n",
       "      <td>20000</td>\n",
       "      <td>Литры</td>\n",
       "    </tr>\n",
       "    <tr>\n",
       "      <th>1</th>\n",
       "      <td>29</td>\n",
       "      <td>Машины и оборудование</td>\n",
       "      <td>Крупный</td>\n",
       "      <td>Центральный Федеральный округ</td>\n",
       "      <td>Производство</td>\n",
       "      <td>Акционерная компания с неторгуемыми акциями ил...</td>\n",
       "      <td>2002</td>\n",
       "      <td>Нет</td>\n",
       "      <td>Производство Насосов И Компрессоров</td>\n",
       "      <td>0</td>\n",
       "      <td>...</td>\n",
       "      <td>Нет</td>\n",
       "      <td>Нет</td>\n",
       "      <td>Модернизация машин и оборудования</td>\n",
       "      <td>Нет</td>\n",
       "      <td>Не является приоритетом по сравнению с другими...</td>\n",
       "      <td>Нет</td>\n",
       "      <td>Нет</td>\n",
       "      <td>160000</td>\n",
       "      <td>18500</td>\n",
       "      <td>Литры</td>\n",
       "    </tr>\n",
       "    <tr>\n",
       "      <th>2</th>\n",
       "      <td>34</td>\n",
       "      <td>Другое Производство</td>\n",
       "      <td>Средний</td>\n",
       "      <td>Центральный Федеральный округ</td>\n",
       "      <td>Производство</td>\n",
       "      <td>Акционерная компания с неторгуемыми акциями ил...</td>\n",
       "      <td>2005</td>\n",
       "      <td>Нет</td>\n",
       "      <td>Производство Алюминиевых И Медных Проводов, Си...</td>\n",
       "      <td>100</td>\n",
       "      <td>...</td>\n",
       "      <td>Да</td>\n",
       "      <td>Не знаю</td>\n",
       "      <td>NaN</td>\n",
       "      <td>Нет</td>\n",
       "      <td>Нехватка финансовых ресурсов</td>\n",
       "      <td>Нет</td>\n",
       "      <td>Нет</td>\n",
       "      <td>Не знаю</td>\n",
       "      <td>Не знаю</td>\n",
       "      <td>NaN</td>\n",
       "    </tr>\n",
       "    <tr>\n",
       "      <th>3</th>\n",
       "      <td>50</td>\n",
       "      <td>Готовые Металлические Изделия</td>\n",
       "      <td>Малый</td>\n",
       "      <td>Центральный Федеральный округ</td>\n",
       "      <td>Другие услуги</td>\n",
       "      <td>Акционерная компания с неторгуемыми акциями ил...</td>\n",
       "      <td>2015</td>\n",
       "      <td>Нет</td>\n",
       "      <td>Строительство жилых и нежилых зданий</td>\n",
       "      <td>0</td>\n",
       "      <td>...</td>\n",
       "      <td>Нет</td>\n",
       "      <td>Нет</td>\n",
       "      <td>NaN</td>\n",
       "      <td>Нет</td>\n",
       "      <td>Операционный и/ или технический риск</td>\n",
       "      <td>Нет</td>\n",
       "      <td>Нет</td>\n",
       "      <td>Не знаю</td>\n",
       "      <td>Не знаю</td>\n",
       "      <td>NaN</td>\n",
       "    </tr>\n",
       "    <tr>\n",
       "      <th>4</th>\n",
       "      <td>56</td>\n",
       "      <td>Другие Услуги</td>\n",
       "      <td>Малый</td>\n",
       "      <td>Центральный Федеральный округ</td>\n",
       "      <td>Другие услуги</td>\n",
       "      <td>Акционерная компания с неторгуемыми акциями ил...</td>\n",
       "      <td>2002</td>\n",
       "      <td>Нет</td>\n",
       "      <td>Оптовая Продажа Офисной Мебели</td>\n",
       "      <td>0</td>\n",
       "      <td>...</td>\n",
       "      <td>Да</td>\n",
       "      <td>Не применимо</td>\n",
       "      <td>Модернизация машин и оборудования</td>\n",
       "      <td>Нет</td>\n",
       "      <td>Нехватка финансовых ресурсов</td>\n",
       "      <td>Нет</td>\n",
       "      <td>Нет</td>\n",
       "      <td>100000</td>\n",
       "      <td>10000</td>\n",
       "      <td>Литры</td>\n",
       "    </tr>\n",
       "  </tbody>\n",
       "</table>\n",
       "<p>5 rows × 48 columns</p>\n",
       "</div>"
      ],
      "text/plain": [
       "   id                            a4a      a6a                             a2  \\\n",
       "0  22  Готовые Металлические Изделия    Малый  Центральный Федеральный округ   \n",
       "1  29          Машины и оборудование  Крупный  Центральный Федеральный округ   \n",
       "2  34            Другое Производство  Средний  Центральный Федеральный округ   \n",
       "3  50  Готовые Металлические Изделия    Малый  Центральный Федеральный округ   \n",
       "4  56                  Другие Услуги    Малый  Центральный Федеральный округ   \n",
       "\n",
       "              a0                                                 b1    b5  \\\n",
       "0   Производство  Акционерная компания с неторгуемыми акциями ил...  2007   \n",
       "1   Производство  Акционерная компания с неторгуемыми акциями ил...  2002   \n",
       "2   Производство  Акционерная компания с неторгуемыми акциями ил...  2005   \n",
       "3  Другие услуги  Акционерная компания с неторгуемыми акциями ил...  2015   \n",
       "4  Другие услуги  Акционерная компания с неторгуемыми акциями ил...  2002   \n",
       "\n",
       "   b7a                                              d1a1x  g1a  ... BMGc23i  \\\n",
       "0  Нет  Производство Готовых Строительных Металлически...    0  ...      Да   \n",
       "1  Нет                Производство Насосов И Компрессоров    0  ...     Нет   \n",
       "2  Нет  Производство Алюминиевых И Медных Проводов, Си...  100  ...      Да   \n",
       "3  Нет               Строительство жилых и нежилых зданий    0  ...     Нет   \n",
       "4  Нет                     Оптовая Продажа Офисной Мебели    0  ...      Да   \n",
       "\n",
       "        BMGc23j                             BMGc24 BMGc25  \\\n",
       "0           Нет  Модернизация машин и оборудования     Да   \n",
       "1           Нет  Модернизация машин и оборудования    Нет   \n",
       "2       Не знаю                                NaN    Нет   \n",
       "3           Нет                                NaN    Нет   \n",
       "4  Не применимо  Модернизация машин и оборудования    Нет   \n",
       "\n",
       "                                              BMGc27 BMGd6 BMGd7    BMGe1  \\\n",
       "0                                                NaN   Нет   Нет   100000   \n",
       "1  Не является приоритетом по сравнению с другими...   Нет   Нет   160000   \n",
       "2                       Нехватка финансовых ресурсов   Нет   Нет  Не знаю   \n",
       "3               Операционный и/ или технический риск   Нет   Нет  Не знаю   \n",
       "4                       Нехватка финансовых ресурсов   Нет   Нет   100000   \n",
       "\n",
       "     BMGe2 BMGe2u  \n",
       "0    20000  Литры  \n",
       "1    18500  Литры  \n",
       "2  Не знаю    NaN  \n",
       "3  Не знаю    NaN  \n",
       "4    10000  Литры  \n",
       "\n",
       "[5 rows x 48 columns]"
      ]
     },
     "execution_count": 3,
     "metadata": {},
     "output_type": "execute_result"
    }
   ],
   "source": [
    "df = pd.read_excel('../ecology.xlsx')\n",
    "df.head()"
   ]
  },
  {
   "cell_type": "code",
   "execution_count": 10,
   "metadata": {},
   "outputs": [
    {
     "name": "stdout",
     "output_type": "stream",
     "text": [
      "<class 'pandas.core.frame.DataFrame'>\n",
      "RangeIndex: 1323 entries, 0 to 1322\n",
      "Data columns (total 48 columns):\n",
      " #   Column               Non-Null Count  Dtype \n",
      "---  ------               --------------  ----- \n",
      " 0   id                   1323 non-null   int64 \n",
      " 1   a4a                  1323 non-null   object\n",
      " 2   a6a                  1323 non-null   object\n",
      " 3   a2                   1323 non-null   object\n",
      " 4   a0                   1323 non-null   object\n",
      " 5   b1                   1323 non-null   object\n",
      " 6   b5                   1323 non-null   object\n",
      " 7   b7a                  1323 non-null   object\n",
      " 8   d1a1x                1323 non-null   object\n",
      " 9   g1a                  1323 non-null   object\n",
      " 10  BMj4c                1323 non-null   object\n",
      " 11  j30_environment_pos  1323 non-null   int64 \n",
      " 12  BMj5                 1323 non-null   object\n",
      " 13  n2a                  1323 non-null   object\n",
      " 14  n2e                  889 non-null    object\n",
      " 15  n2b                  1323 non-null   object\n",
      " 16  n2f                  1323 non-null   object\n",
      " 17  n2i                  152 non-null    object\n",
      " 18  n2p                  889 non-null    object\n",
      " 19  BMGa1                1323 non-null   object\n",
      " 20  BMGa2                1323 non-null   object\n",
      " 21  BMGa4                1323 non-null   object\n",
      " 22  BMGb1                1323 non-null   object\n",
      " 23  BMGb2                1323 non-null   object\n",
      " 24  BMGc2                781 non-null    object\n",
      " 25  BMGc5                471 non-null    object\n",
      " 26  BMGc7                1323 non-null   object\n",
      " 27  BMGc8                166 non-null    object\n",
      " 28  BMGc16               1323 non-null   object\n",
      " 29  BMGc18               1323 non-null   object\n",
      " 30  BMGc23a              1323 non-null   object\n",
      " 31  BMGc23b              1323 non-null   object\n",
      " 32  BMGc23c              1323 non-null   object\n",
      " 33  BMGc23d              1323 non-null   object\n",
      " 34  BMGc23e              1323 non-null   object\n",
      " 35  BMGc23f              1323 non-null   object\n",
      " 36  BMGc23g              1323 non-null   object\n",
      " 37  BMGc23h              1323 non-null   object\n",
      " 38  BMGc23i              1323 non-null   object\n",
      " 39  BMGc23j              1323 non-null   object\n",
      " 40  BMGc24               671 non-null    object\n",
      " 41  BMGc25               1323 non-null   object\n",
      " 42  BMGc27               876 non-null    object\n",
      " 43  BMGd6                1323 non-null   object\n",
      " 44  BMGd7                1323 non-null   object\n",
      " 45  BMGe1                1323 non-null   object\n",
      " 46  BMGe2                1323 non-null   object\n",
      " 47  BMGe2u               194 non-null    object\n",
      "dtypes: int64(2), object(46)\n",
      "memory usage: 496.3+ KB\n"
     ]
    }
   ],
   "source": [
    "df.info()"
   ]
  },
  {
   "cell_type": "code",
   "execution_count": 15,
   "metadata": {},
   "outputs": [
    {
     "data": {
      "text/plain": [
       "BMGc7\n",
       "Нет        1135\n",
       "Да          166\n",
       "Не знаю      22\n",
       "Name: count, dtype: int64"
      ]
     },
     "execution_count": 15,
     "metadata": {},
     "output_type": "execute_result"
    }
   ],
   "source": [
    "df.BMGc7.value_counts()"
   ]
  },
  {
   "cell_type": "code",
   "execution_count": 13,
   "metadata": {},
   "outputs": [
    {
     "ename": "TypeError",
     "evalue": "unsupported operand type(s) for +: 'int' and 'str'",
     "output_type": "error",
     "traceback": [
      "\u001b[0;31m---------------------------------------------------------------------------\u001b[0m",
      "\u001b[0;31mTypeError\u001b[0m                                 Traceback (most recent call last)",
      "Cell \u001b[0;32mIn[13], line 1\u001b[0m\n\u001b[0;32m----> 1\u001b[0m \u001b[43mdf\u001b[49m\u001b[38;5;241;43m.\u001b[39;49m\u001b[43mBMGc7\u001b[49m\u001b[38;5;241;43m.\u001b[39;49m\u001b[43mreplace\u001b[49m\u001b[43m(\u001b[49m\u001b[43m{\u001b[49m\u001b[38;5;124;43m'\u001b[39;49m\u001b[38;5;124;43mДа\u001b[39;49m\u001b[38;5;124;43m'\u001b[39;49m\u001b[43m:\u001b[49m\u001b[43m \u001b[49m\u001b[38;5;241;43m1\u001b[39;49m\u001b[43m,\u001b[49m\u001b[43m \u001b[49m\u001b[38;5;124;43m\"\u001b[39;49m\u001b[38;5;124;43mНет\u001b[39;49m\u001b[38;5;124;43m\"\u001b[39;49m\u001b[43m:\u001b[49m\u001b[43m \u001b[49m\u001b[38;5;241;43m0\u001b[39;49m\u001b[43m,\u001b[49m\u001b[43m \u001b[49m\u001b[38;5;124;43m\"\u001b[39;49m\u001b[38;5;124;43m*\u001b[39;49m\u001b[38;5;124;43m\"\u001b[39;49m\u001b[43m:\u001b[49m\u001b[43m \u001b[49m\u001b[38;5;241;43m0\u001b[39;49m\u001b[43m}\u001b[49m\u001b[43m)\u001b[49m\u001b[38;5;241;43m.\u001b[39;49m\u001b[43msum\u001b[49m\u001b[43m(\u001b[49m\u001b[43m)\u001b[49m\n",
      "File \u001b[0;32m/opt/homebrew/lib/python3.11/site-packages/pandas/core/series.py:6200\u001b[0m, in \u001b[0;36mSeries.sum\u001b[0;34m(self, axis, skipna, numeric_only, min_count, **kwargs)\u001b[0m\n\u001b[1;32m   6191\u001b[0m \u001b[38;5;129m@doc\u001b[39m(make_doc(\u001b[38;5;124m\"\u001b[39m\u001b[38;5;124msum\u001b[39m\u001b[38;5;124m\"\u001b[39m, ndim\u001b[38;5;241m=\u001b[39m\u001b[38;5;241m1\u001b[39m))\n\u001b[1;32m   6192\u001b[0m \u001b[38;5;28;01mdef\u001b[39;00m \u001b[38;5;21msum\u001b[39m(\n\u001b[1;32m   6193\u001b[0m     \u001b[38;5;28mself\u001b[39m,\n\u001b[0;32m   (...)\u001b[0m\n\u001b[1;32m   6198\u001b[0m     \u001b[38;5;241m*\u001b[39m\u001b[38;5;241m*\u001b[39mkwargs,\n\u001b[1;32m   6199\u001b[0m ):\n\u001b[0;32m-> 6200\u001b[0m     \u001b[38;5;28;01mreturn\u001b[39;00m \u001b[43mNDFrame\u001b[49m\u001b[38;5;241;43m.\u001b[39;49m\u001b[43msum\u001b[49m\u001b[43m(\u001b[49m\u001b[38;5;28;43mself\u001b[39;49m\u001b[43m,\u001b[49m\u001b[43m \u001b[49m\u001b[43maxis\u001b[49m\u001b[43m,\u001b[49m\u001b[43m \u001b[49m\u001b[43mskipna\u001b[49m\u001b[43m,\u001b[49m\u001b[43m \u001b[49m\u001b[43mnumeric_only\u001b[49m\u001b[43m,\u001b[49m\u001b[43m \u001b[49m\u001b[43mmin_count\u001b[49m\u001b[43m,\u001b[49m\u001b[43m \u001b[49m\u001b[38;5;241;43m*\u001b[39;49m\u001b[38;5;241;43m*\u001b[39;49m\u001b[43mkwargs\u001b[49m\u001b[43m)\u001b[49m\n",
      "File \u001b[0;32m/opt/homebrew/lib/python3.11/site-packages/pandas/core/generic.py:12070\u001b[0m, in \u001b[0;36mNDFrame.sum\u001b[0;34m(self, axis, skipna, numeric_only, min_count, **kwargs)\u001b[0m\n\u001b[1;32m  12062\u001b[0m \u001b[38;5;28;01mdef\u001b[39;00m \u001b[38;5;21msum\u001b[39m(\n\u001b[1;32m  12063\u001b[0m     \u001b[38;5;28mself\u001b[39m,\n\u001b[1;32m  12064\u001b[0m     axis: Axis \u001b[38;5;241m|\u001b[39m \u001b[38;5;28;01mNone\u001b[39;00m \u001b[38;5;241m=\u001b[39m \u001b[38;5;241m0\u001b[39m,\n\u001b[0;32m   (...)\u001b[0m\n\u001b[1;32m  12068\u001b[0m     \u001b[38;5;241m*\u001b[39m\u001b[38;5;241m*\u001b[39mkwargs,\n\u001b[1;32m  12069\u001b[0m ):\n\u001b[0;32m> 12070\u001b[0m     \u001b[38;5;28;01mreturn\u001b[39;00m \u001b[38;5;28;43mself\u001b[39;49m\u001b[38;5;241;43m.\u001b[39;49m\u001b[43m_min_count_stat_function\u001b[49m\u001b[43m(\u001b[49m\n\u001b[1;32m  12071\u001b[0m \u001b[43m        \u001b[49m\u001b[38;5;124;43m\"\u001b[39;49m\u001b[38;5;124;43msum\u001b[39;49m\u001b[38;5;124;43m\"\u001b[39;49m\u001b[43m,\u001b[49m\u001b[43m \u001b[49m\u001b[43mnanops\u001b[49m\u001b[38;5;241;43m.\u001b[39;49m\u001b[43mnansum\u001b[49m\u001b[43m,\u001b[49m\u001b[43m \u001b[49m\u001b[43maxis\u001b[49m\u001b[43m,\u001b[49m\u001b[43m \u001b[49m\u001b[43mskipna\u001b[49m\u001b[43m,\u001b[49m\u001b[43m \u001b[49m\u001b[43mnumeric_only\u001b[49m\u001b[43m,\u001b[49m\u001b[43m \u001b[49m\u001b[43mmin_count\u001b[49m\u001b[43m,\u001b[49m\u001b[43m \u001b[49m\u001b[38;5;241;43m*\u001b[39;49m\u001b[38;5;241;43m*\u001b[39;49m\u001b[43mkwargs\u001b[49m\n\u001b[1;32m  12072\u001b[0m \u001b[43m    \u001b[49m\u001b[43m)\u001b[49m\n",
      "File \u001b[0;32m/opt/homebrew/lib/python3.11/site-packages/pandas/core/generic.py:12053\u001b[0m, in \u001b[0;36mNDFrame._min_count_stat_function\u001b[0;34m(self, name, func, axis, skipna, numeric_only, min_count, **kwargs)\u001b[0m\n\u001b[1;32m  12050\u001b[0m \u001b[38;5;28;01melif\u001b[39;00m axis \u001b[38;5;129;01mis\u001b[39;00m lib\u001b[38;5;241m.\u001b[39mno_default:\n\u001b[1;32m  12051\u001b[0m     axis \u001b[38;5;241m=\u001b[39m \u001b[38;5;241m0\u001b[39m\n\u001b[0;32m> 12053\u001b[0m \u001b[38;5;28;01mreturn\u001b[39;00m \u001b[38;5;28;43mself\u001b[39;49m\u001b[38;5;241;43m.\u001b[39;49m\u001b[43m_reduce\u001b[49m\u001b[43m(\u001b[49m\n\u001b[1;32m  12054\u001b[0m \u001b[43m    \u001b[49m\u001b[43mfunc\u001b[49m\u001b[43m,\u001b[49m\n\u001b[1;32m  12055\u001b[0m \u001b[43m    \u001b[49m\u001b[43mname\u001b[49m\u001b[38;5;241;43m=\u001b[39;49m\u001b[43mname\u001b[49m\u001b[43m,\u001b[49m\n\u001b[1;32m  12056\u001b[0m \u001b[43m    \u001b[49m\u001b[43maxis\u001b[49m\u001b[38;5;241;43m=\u001b[39;49m\u001b[43maxis\u001b[49m\u001b[43m,\u001b[49m\n\u001b[1;32m  12057\u001b[0m \u001b[43m    \u001b[49m\u001b[43mskipna\u001b[49m\u001b[38;5;241;43m=\u001b[39;49m\u001b[43mskipna\u001b[49m\u001b[43m,\u001b[49m\n\u001b[1;32m  12058\u001b[0m \u001b[43m    \u001b[49m\u001b[43mnumeric_only\u001b[49m\u001b[38;5;241;43m=\u001b[39;49m\u001b[43mnumeric_only\u001b[49m\u001b[43m,\u001b[49m\n\u001b[1;32m  12059\u001b[0m \u001b[43m    \u001b[49m\u001b[43mmin_count\u001b[49m\u001b[38;5;241;43m=\u001b[39;49m\u001b[43mmin_count\u001b[49m\u001b[43m,\u001b[49m\n\u001b[1;32m  12060\u001b[0m \u001b[43m\u001b[49m\u001b[43m)\u001b[49m\n",
      "File \u001b[0;32m/opt/homebrew/lib/python3.11/site-packages/pandas/core/series.py:6129\u001b[0m, in \u001b[0;36mSeries._reduce\u001b[0;34m(self, op, name, axis, skipna, numeric_only, filter_type, **kwds)\u001b[0m\n\u001b[1;32m   6124\u001b[0m     \u001b[38;5;66;03m# GH#47500 - change to TypeError to match other methods\u001b[39;00m\n\u001b[1;32m   6125\u001b[0m     \u001b[38;5;28;01mraise\u001b[39;00m \u001b[38;5;167;01mTypeError\u001b[39;00m(\n\u001b[1;32m   6126\u001b[0m         \u001b[38;5;124mf\u001b[39m\u001b[38;5;124m\"\u001b[39m\u001b[38;5;124mSeries.\u001b[39m\u001b[38;5;132;01m{\u001b[39;00mname\u001b[38;5;132;01m}\u001b[39;00m\u001b[38;5;124m does not allow \u001b[39m\u001b[38;5;132;01m{\u001b[39;00mkwd_name\u001b[38;5;132;01m}\u001b[39;00m\u001b[38;5;124m=\u001b[39m\u001b[38;5;132;01m{\u001b[39;00mnumeric_only\u001b[38;5;132;01m}\u001b[39;00m\u001b[38;5;124m \u001b[39m\u001b[38;5;124m\"\u001b[39m\n\u001b[1;32m   6127\u001b[0m         \u001b[38;5;124m\"\u001b[39m\u001b[38;5;124mwith non-numeric dtypes.\u001b[39m\u001b[38;5;124m\"\u001b[39m\n\u001b[1;32m   6128\u001b[0m     )\n\u001b[0;32m-> 6129\u001b[0m \u001b[38;5;28;01mreturn\u001b[39;00m \u001b[43mop\u001b[49m\u001b[43m(\u001b[49m\u001b[43mdelegate\u001b[49m\u001b[43m,\u001b[49m\u001b[43m \u001b[49m\u001b[43mskipna\u001b[49m\u001b[38;5;241;43m=\u001b[39;49m\u001b[43mskipna\u001b[49m\u001b[43m,\u001b[49m\u001b[43m \u001b[49m\u001b[38;5;241;43m*\u001b[39;49m\u001b[38;5;241;43m*\u001b[39;49m\u001b[43mkwds\u001b[49m\u001b[43m)\u001b[49m\n",
      "File \u001b[0;32m/opt/homebrew/lib/python3.11/site-packages/pandas/core/nanops.py:85\u001b[0m, in \u001b[0;36mdisallow.__call__.<locals>._f\u001b[0;34m(*args, **kwargs)\u001b[0m\n\u001b[1;32m     81\u001b[0m     \u001b[38;5;28;01mraise\u001b[39;00m \u001b[38;5;167;01mTypeError\u001b[39;00m(\n\u001b[1;32m     82\u001b[0m         \u001b[38;5;124mf\u001b[39m\u001b[38;5;124m\"\u001b[39m\u001b[38;5;124mreduction operation \u001b[39m\u001b[38;5;124m'\u001b[39m\u001b[38;5;132;01m{\u001b[39;00mf_name\u001b[38;5;132;01m}\u001b[39;00m\u001b[38;5;124m'\u001b[39m\u001b[38;5;124m not allowed for this dtype\u001b[39m\u001b[38;5;124m\"\u001b[39m\n\u001b[1;32m     83\u001b[0m     )\n\u001b[1;32m     84\u001b[0m \u001b[38;5;28;01mtry\u001b[39;00m:\n\u001b[0;32m---> 85\u001b[0m     \u001b[38;5;28;01mreturn\u001b[39;00m \u001b[43mf\u001b[49m\u001b[43m(\u001b[49m\u001b[38;5;241;43m*\u001b[39;49m\u001b[43margs\u001b[49m\u001b[43m,\u001b[49m\u001b[43m \u001b[49m\u001b[38;5;241;43m*\u001b[39;49m\u001b[38;5;241;43m*\u001b[39;49m\u001b[43mkwargs\u001b[49m\u001b[43m)\u001b[49m\n\u001b[1;32m     86\u001b[0m \u001b[38;5;28;01mexcept\u001b[39;00m \u001b[38;5;167;01mValueError\u001b[39;00m \u001b[38;5;28;01mas\u001b[39;00m e:\n\u001b[1;32m     87\u001b[0m     \u001b[38;5;66;03m# we want to transform an object array\u001b[39;00m\n\u001b[1;32m     88\u001b[0m     \u001b[38;5;66;03m# ValueError message to the more typical TypeError\u001b[39;00m\n\u001b[1;32m     89\u001b[0m     \u001b[38;5;66;03m# e.g. this is normally a disallowed function on\u001b[39;00m\n\u001b[1;32m     90\u001b[0m     \u001b[38;5;66;03m# object arrays that contain strings\u001b[39;00m\n\u001b[1;32m     91\u001b[0m     \u001b[38;5;28;01mif\u001b[39;00m is_object_dtype(args[\u001b[38;5;241m0\u001b[39m]):\n",
      "File \u001b[0;32m/opt/homebrew/lib/python3.11/site-packages/pandas/core/nanops.py:404\u001b[0m, in \u001b[0;36m_datetimelike_compat.<locals>.new_func\u001b[0;34m(values, axis, skipna, mask, **kwargs)\u001b[0m\n\u001b[1;32m    401\u001b[0m \u001b[38;5;28;01mif\u001b[39;00m datetimelike \u001b[38;5;129;01mand\u001b[39;00m mask \u001b[38;5;129;01mis\u001b[39;00m \u001b[38;5;28;01mNone\u001b[39;00m:\n\u001b[1;32m    402\u001b[0m     mask \u001b[38;5;241m=\u001b[39m isna(values)\n\u001b[0;32m--> 404\u001b[0m result \u001b[38;5;241m=\u001b[39m \u001b[43mfunc\u001b[49m\u001b[43m(\u001b[49m\u001b[43mvalues\u001b[49m\u001b[43m,\u001b[49m\u001b[43m \u001b[49m\u001b[43maxis\u001b[49m\u001b[38;5;241;43m=\u001b[39;49m\u001b[43maxis\u001b[49m\u001b[43m,\u001b[49m\u001b[43m \u001b[49m\u001b[43mskipna\u001b[49m\u001b[38;5;241;43m=\u001b[39;49m\u001b[43mskipna\u001b[49m\u001b[43m,\u001b[49m\u001b[43m \u001b[49m\u001b[43mmask\u001b[49m\u001b[38;5;241;43m=\u001b[39;49m\u001b[43mmask\u001b[49m\u001b[43m,\u001b[49m\u001b[43m \u001b[49m\u001b[38;5;241;43m*\u001b[39;49m\u001b[38;5;241;43m*\u001b[39;49m\u001b[43mkwargs\u001b[49m\u001b[43m)\u001b[49m\n\u001b[1;32m    406\u001b[0m \u001b[38;5;28;01mif\u001b[39;00m datetimelike:\n\u001b[1;32m    407\u001b[0m     result \u001b[38;5;241m=\u001b[39m _wrap_results(result, orig_values\u001b[38;5;241m.\u001b[39mdtype, fill_value\u001b[38;5;241m=\u001b[39miNaT)\n",
      "File \u001b[0;32m/opt/homebrew/lib/python3.11/site-packages/pandas/core/nanops.py:477\u001b[0m, in \u001b[0;36mmaybe_operate_rowwise.<locals>.newfunc\u001b[0;34m(values, axis, **kwargs)\u001b[0m\n\u001b[1;32m    474\u001b[0m         results \u001b[38;5;241m=\u001b[39m [func(x, \u001b[38;5;241m*\u001b[39m\u001b[38;5;241m*\u001b[39mkwargs) \u001b[38;5;28;01mfor\u001b[39;00m x \u001b[38;5;129;01min\u001b[39;00m arrs]\n\u001b[1;32m    475\u001b[0m     \u001b[38;5;28;01mreturn\u001b[39;00m np\u001b[38;5;241m.\u001b[39marray(results)\n\u001b[0;32m--> 477\u001b[0m \u001b[38;5;28;01mreturn\u001b[39;00m \u001b[43mfunc\u001b[49m\u001b[43m(\u001b[49m\u001b[43mvalues\u001b[49m\u001b[43m,\u001b[49m\u001b[43m \u001b[49m\u001b[43maxis\u001b[49m\u001b[38;5;241;43m=\u001b[39;49m\u001b[43maxis\u001b[49m\u001b[43m,\u001b[49m\u001b[43m \u001b[49m\u001b[38;5;241;43m*\u001b[39;49m\u001b[38;5;241;43m*\u001b[39;49m\u001b[43mkwargs\u001b[49m\u001b[43m)\u001b[49m\n",
      "File \u001b[0;32m/opt/homebrew/lib/python3.11/site-packages/pandas/core/nanops.py:646\u001b[0m, in \u001b[0;36mnansum\u001b[0;34m(values, axis, skipna, min_count, mask)\u001b[0m\n\u001b[1;32m    643\u001b[0m \u001b[38;5;28;01melif\u001b[39;00m dtype\u001b[38;5;241m.\u001b[39mkind \u001b[38;5;241m==\u001b[39m \u001b[38;5;124m\"\u001b[39m\u001b[38;5;124mm\u001b[39m\u001b[38;5;124m\"\u001b[39m:\n\u001b[1;32m    644\u001b[0m     dtype_sum \u001b[38;5;241m=\u001b[39m np\u001b[38;5;241m.\u001b[39mdtype(np\u001b[38;5;241m.\u001b[39mfloat64)\n\u001b[0;32m--> 646\u001b[0m the_sum \u001b[38;5;241m=\u001b[39m \u001b[43mvalues\u001b[49m\u001b[38;5;241;43m.\u001b[39;49m\u001b[43msum\u001b[49m\u001b[43m(\u001b[49m\u001b[43maxis\u001b[49m\u001b[43m,\u001b[49m\u001b[43m \u001b[49m\u001b[43mdtype\u001b[49m\u001b[38;5;241;43m=\u001b[39;49m\u001b[43mdtype_sum\u001b[49m\u001b[43m)\u001b[49m\n\u001b[1;32m    647\u001b[0m the_sum \u001b[38;5;241m=\u001b[39m _maybe_null_out(the_sum, axis, mask, values\u001b[38;5;241m.\u001b[39mshape, min_count\u001b[38;5;241m=\u001b[39mmin_count)\n\u001b[1;32m    649\u001b[0m \u001b[38;5;28;01mreturn\u001b[39;00m the_sum\n",
      "File \u001b[0;32m/opt/homebrew/lib/python3.11/site-packages/numpy/core/_methods.py:49\u001b[0m, in \u001b[0;36m_sum\u001b[0;34m(a, axis, dtype, out, keepdims, initial, where)\u001b[0m\n\u001b[1;32m     47\u001b[0m \u001b[38;5;28;01mdef\u001b[39;00m \u001b[38;5;21m_sum\u001b[39m(a, axis\u001b[38;5;241m=\u001b[39m\u001b[38;5;28;01mNone\u001b[39;00m, dtype\u001b[38;5;241m=\u001b[39m\u001b[38;5;28;01mNone\u001b[39;00m, out\u001b[38;5;241m=\u001b[39m\u001b[38;5;28;01mNone\u001b[39;00m, keepdims\u001b[38;5;241m=\u001b[39m\u001b[38;5;28;01mFalse\u001b[39;00m,\n\u001b[1;32m     48\u001b[0m          initial\u001b[38;5;241m=\u001b[39m_NoValue, where\u001b[38;5;241m=\u001b[39m\u001b[38;5;28;01mTrue\u001b[39;00m):\n\u001b[0;32m---> 49\u001b[0m     \u001b[38;5;28;01mreturn\u001b[39;00m umr_sum(a, axis, dtype, out, keepdims, initial, where)\n",
      "\u001b[0;31mTypeError\u001b[0m: unsupported operand type(s) for +: 'int' and 'str'"
     ]
    }
   ],
   "source": [
    "df.BMGc7.replace({'Да': 1, \"Нет\": 0, \"*\": 0}).sum()"
   ]
  },
  {
   "cell_type": "code",
   "execution_count": 16,
   "metadata": {},
   "outputs": [
    {
     "data": {
      "text/plain": [
       "a4a\n",
       "Другие Услуги                           264\n",
       "Другое Производство                     180\n",
       "Розничная торговля                      159\n",
       "Еда                                     157\n",
       "Неметаллические Минеральные продукты    142\n",
       "Готовые Металлические Изделия           141\n",
       "Предметы одежды                         141\n",
       "Машины и оборудование                   139\n",
       "Name: count, dtype: int64"
      ]
     },
     "execution_count": 16,
     "metadata": {},
     "output_type": "execute_result"
    }
   ],
   "source": [
    "df.a4a.value_counts()"
   ]
  },
  {
   "cell_type": "code",
   "execution_count": 78,
   "metadata": {},
   "outputs": [
    {
     "data": {
      "text/plain": [
       "BMGc25\n",
       "Нет                   876\n",
       "Да                    370\n",
       "Не знаю                72\n",
       "Отказался отвечать      5\n",
       "Name: count, dtype: int64"
      ]
     },
     "execution_count": 78,
     "metadata": {},
     "output_type": "execute_result"
    }
   ],
   "source": [
    "df['BMGc25'].value_counts()"
   ]
  },
  {
   "cell_type": "code",
   "execution_count": 89,
   "metadata": {},
   "outputs": [
    {
     "data": {
      "text/plain": [
       "BMj4c\n",
       "Не является препятствием       662\n",
       "Незначительное препятствие     306\n",
       "Среднее препятствие            214\n",
       "Серьезное препятствие           68\n",
       "Не применимо                    31\n",
       "Не знаю                         29\n",
       "Очень серьезное препятствие     13\n",
       "Name: count, dtype: int64"
      ]
     },
     "execution_count": 89,
     "metadata": {},
     "output_type": "execute_result"
    }
   ],
   "source": [
    "df['BMj4c'].value_counts()"
   ]
  },
  {
   "cell_type": "code",
   "execution_count": 88,
   "metadata": {},
   "outputs": [
    {
     "data": {
      "text/plain": [
       "BMj4c                        a4a                                 \n",
       "Очень серьезное препятствие  Машины и оборудование                     1\n",
       "Не знаю                      Машины и оборудование                     1\n",
       "                             Неметаллические Минеральные продукты      1\n",
       "Не применимо                 Еда                                       1\n",
       "Очень серьезное препятствие  Другое Производство                       2\n",
       "                             Предметы одежды                           2\n",
       "Не применимо                 Другое Производство                       2\n",
       "Очень серьезное препятствие  Другие Услуги                             2\n",
       "                             Розничная торговля                        3\n",
       "Не знаю                      Розничная торговля                        3\n",
       "                             Еда                                       3\n",
       "Очень серьезное препятствие  Еда                                       3\n",
       "Серьезное препятствие        Предметы одежды                           3\n",
       "Не применимо                 Готовые Металлические Изделия             3\n",
       "Не знаю                      Предметы одежды                           5\n",
       "Не применимо                 Розничная торговля                        5\n",
       "Серьезное препятствие        Готовые Металлические Изделия             5\n",
       "Не знаю                      Готовые Металлические Изделия             6\n",
       "Серьезное препятствие        Другие Услуги                             8\n",
       "                             Машины и оборудование                     8\n",
       "Не применимо                 Другие Услуги                             8\n",
       "Серьезное препятствие        Розничная торговля                        8\n",
       "                             Неметаллические Минеральные продукты     10\n",
       "Не знаю                      Другие Услуги                            10\n",
       "Серьезное препятствие        Другое Производство                      12\n",
       "Не применимо                 Предметы одежды                          12\n",
       "Среднее препятствие          Предметы одежды                          12\n",
       "Серьезное препятствие        Еда                                      14\n",
       "Среднее препятствие          Розничная торговля                       19\n",
       "                             Готовые Металлические Изделия            21\n",
       "                             Машины и оборудование                    23\n",
       "Незначительное препятствие   Розничная торговля                       24\n",
       "Среднее препятствие          Неметаллические Минеральные продукты     27\n",
       "Незначительное препятствие   Предметы одежды                          31\n",
       "Среднее препятствие          Еда                                      33\n",
       "Незначительное препятствие   Неметаллические Минеральные продукты     36\n",
       "                             Готовые Металлические Изделия            36\n",
       "Среднее препятствие          Другое Производство                      37\n",
       "Незначительное препятствие   Машины и оборудование                    38\n",
       "                             Еда                                      39\n",
       "Среднее препятствие          Другие Услуги                            42\n",
       "Незначительное препятствие   Другое Производство                      48\n",
       "                             Другие Услуги                            54\n",
       "Не является препятствием     Еда                                      64\n",
       "                             Неметаллические Минеральные продукты     68\n",
       "                             Машины и оборудование                    68\n",
       "                             Готовые Металлические Изделия            70\n",
       "                             Предметы одежды                          76\n",
       "                             Другое Производство                      79\n",
       "                             Розничная торговля                       97\n",
       "                             Другие Услуги                           140\n",
       "Name: id, dtype: int64"
      ]
     },
     "execution_count": 88,
     "metadata": {},
     "output_type": "execute_result"
    }
   ],
   "source": [
    "df.groupby([\"BMj4c\", 'a4a']).id.count().sort_values()"
   ]
  },
  {
   "cell_type": "code",
   "execution_count": 101,
   "metadata": {},
   "outputs": [
    {
     "name": "stderr",
     "output_type": "stream",
     "text": [
      "/var/folders/g7/fsqf0_dj0t91wd65112c268r0000gn/T/ipykernel_99988/2669574485.py:4: SettingWithCopyWarning: \n",
      "A value is trying to be set on a copy of a slice from a DataFrame\n",
      "\n",
      "See the caveats in the documentation: https://pandas.pydata.org/pandas-docs/stable/user_guide/indexing.html#returning-a-view-versus-a-copy\n",
      "  df1.replace({\"Нет\": 0, \"Да\": 1, \"Не применимо\": 0, \"Не знаю\": 0}, inplace=True)\n"
     ]
    },
    {
     "data": {
      "text/plain": [
       "0.1532099581180242"
      ]
     },
     "execution_count": 101,
     "metadata": {},
     "output_type": "execute_result"
    }
   ],
   "source": [
    "from sklearn.linear_model import LinearRegression\n",
    "from sklearn.metrics import mean_squared_error\n",
    "df1 = df[[\"BMGc23\" + c for c in \"abcdefghij\"]]\n",
    "df1.replace({\"Нет\": 0, \"Да\": 1, \"Не применимо\": 0, \"Не знаю\": 0}, inplace=True)\n",
    "model = LinearRegression().fit(df1[[\"BMGc23\" + c for c in \"abcdefghj\"]], df1[[\"BMGc23\" + c for c in \"i\"]])\n",
    "model.predict(df1[[\"BMGc23\" + c for c in \"abcdefghj\"]]),  df1['BMGc23i']"
   ]
  }
 ],
 "metadata": {
  "kernelspec": {
   "display_name": "Python 3",
   "language": "python",
   "name": "python3"
  },
  "language_info": {
   "codemirror_mode": {
    "name": "ipython",
    "version": 3
   },
   "file_extension": ".py",
   "mimetype": "text/x-python",
   "name": "python",
   "nbconvert_exporter": "python",
   "pygments_lexer": "ipython3",
   "version": "3.11.8"
  }
 },
 "nbformat": 4,
 "nbformat_minor": 2
}
