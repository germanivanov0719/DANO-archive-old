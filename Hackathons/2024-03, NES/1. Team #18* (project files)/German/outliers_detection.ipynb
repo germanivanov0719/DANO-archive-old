{
 "cells": [
  {
   "cell_type": "code",
   "execution_count": 71,
   "metadata": {},
   "outputs": [],
   "source": [
    "import pandas as pd"
   ]
  },
  {
   "cell_type": "code",
   "execution_count": 72,
   "metadata": {},
   "outputs": [
    {
     "name": "stdout",
     "output_type": "stream",
     "text": [
      "<class 'pandas.core.frame.DataFrame'>\n",
      "RangeIndex: 1323 entries, 0 to 1322\n",
      "Data columns (total 49 columns):\n",
      " #   Column               Non-Null Count  Dtype  \n",
      "---  ------               --------------  -----  \n",
      " 0   id                   1323 non-null   int64  \n",
      " 1   a4a                  1323 non-null   object \n",
      " 2   a6a                  1323 non-null   object \n",
      " 3   a2                   1323 non-null   object \n",
      " 4   a0                   1323 non-null   object \n",
      " 5   b1                   1323 non-null   object \n",
      " 6   b5                   1323 non-null   object \n",
      " 7   b7a                  1323 non-null   object \n",
      " 8   d1a1x                1323 non-null   object \n",
      " 9   g1a                  1323 non-null   object \n",
      " 10  BMj4c                1323 non-null   float64\n",
      " 11  j30_environment_pos  1323 non-null   int64  \n",
      " 12  BMj5                 1323 non-null   int64  \n",
      " 13  n2a                  1323 non-null   object \n",
      " 14  n2e                  889 non-null    object \n",
      " 15  n2b                  1323 non-null   object \n",
      " 16  n2f                  1323 non-null   object \n",
      " 17  n2i                  152 non-null    object \n",
      " 18  n2p                  889 non-null    object \n",
      " 19  BMGa1                1323 non-null   object \n",
      " 20  BMGa2                1323 non-null   object \n",
      " 21  BMGa4                1323 non-null   object \n",
      " 22  BMGb1                1323 non-null   object \n",
      " 23  BMGb2                1323 non-null   object \n",
      " 24  BMGc2                781 non-null    object \n",
      " 25  BMGc5                471 non-null    object \n",
      " 26  BMGc7                1323 non-null   object \n",
      " 27  BMGc8                166 non-null    object \n",
      " 28  BMGc16               1323 non-null   object \n",
      " 29  BMGc18               1323 non-null   object \n",
      " 30  BMGc23a              1323 non-null   int64  \n",
      " 31  BMGc23b              1323 non-null   int64  \n",
      " 32  BMGc23c              1323 non-null   int64  \n",
      " 33  BMGc23d              1323 non-null   int64  \n",
      " 34  BMGc23e              1323 non-null   int64  \n",
      " 35  BMGc23f              1323 non-null   int64  \n",
      " 36  BMGc23g              1323 non-null   int64  \n",
      " 37  BMGc23h              1323 non-null   int64  \n",
      " 38  BMGc23i              1323 non-null   int64  \n",
      " 39  BMGc23j              1323 non-null   int64  \n",
      " 40  BMGc24               671 non-null    object \n",
      " 41  BMGc25               1323 non-null   int64  \n",
      " 42  BMGc27               876 non-null    object \n",
      " 43  BMGd6                1323 non-null   object \n",
      " 44  BMGd7                1323 non-null   int64  \n",
      " 45  BMGe1                1323 non-null   object \n",
      " 46  BMGe2                1323 non-null   object \n",
      " 47  BMGe2u               194 non-null    object \n",
      " 48  ecology_index        1323 non-null   int64  \n",
      "dtypes: float64(1), int64(16), object(32)\n",
      "memory usage: 506.6+ KB\n"
     ]
    }
   ],
   "source": [
    "df = pd.read_excel('../Google Chrome/added_index.xlsx').drop('Unnamed: 0', axis=1)\n",
    "df.info()"
   ]
  },
  {
   "cell_type": "code",
   "execution_count": 97,
   "metadata": {},
   "outputs": [],
   "source": [
    "def mark_outliers(series: pd.Series):\n",
    "    q1 = series.quantile(0.25)\n",
    "    q3 = series.quantile(0.75)\n",
    "    iqr = q3 - q1\n",
    "    lower_fence = q1 - 1.5 * iqr\n",
    "    upper_fence = q3 + 1.5 * iqr\n",
    "    print(upper_fence)\n",
    "    # print(~series.apply(lambda x: lower_fence <= x <= upper_fence))\n",
    "    return ~series.apply(lambda x: lower_fence <= x <= upper_fence)\n"
   ]
  },
  {
   "cell_type": "code",
   "execution_count": 125,
   "metadata": {},
   "outputs": [],
   "source": [
    "def remove_outliers(df: pd.DataFrame, columns: list[str] | None = None):\n",
    "    if columns is None:\n",
    "        columns: list[str] = []\n",
    "        for col in df.columns:\n",
    "            # make sure to ignore index/id column\n",
    "            if (\n",
    "                df[col].dtype in [\"float64\", \"int64\"]\n",
    "                and df.shape[0] / 100 < len(df[col].unique()) < df.shape[0] * 0.99 \n",
    "            ):\n",
    "                columns.append(col)\n",
    "        print('Columns for removing outliers were selected automatically')\n",
    "        print('Removing outliers in:', ', '.join(columns))\n",
    "    return df[~sum(mark_outliers(df[col]) for col in columns).astype(bool)]"
   ]
  },
  {
   "cell_type": "code",
   "execution_count": 79,
   "metadata": {},
   "outputs": [],
   "source": [
    "df.BMGe1 = df.BMGe1.replace({'Не знаю': 0}).astype(int)\n",
    "df.BMGe2 = df.BMGe2.replace({'Не знаю': 0}).astype(int)"
   ]
  },
  {
   "cell_type": "code",
   "execution_count": 126,
   "metadata": {},
   "outputs": [
    {
     "name": "stdout",
     "output_type": "stream",
     "text": [
      "Columns for removing outliers were selected automatically\n",
      "Removing outliers in: BMGe1, BMGe2\n",
      "12000.0\n",
      "0.0\n"
     ]
    }
   ],
   "source": [
    "df2 = remove_outliers(df)"
   ]
  },
  {
   "cell_type": "code",
   "execution_count": 112,
   "metadata": {},
   "outputs": [
    {
     "data": {
      "text/plain": [
       "(289, 49)"
      ]
     },
     "execution_count": 112,
     "metadata": {},
     "output_type": "execute_result"
    }
   ],
   "source": [
    "df2.shape"
   ]
  },
  {
   "cell_type": "code",
   "execution_count": 128,
   "metadata": {},
   "outputs": [],
   "source": [
    "df2.to_csv('outliers_removed.csv')"
   ]
  },
  {
   "cell_type": "code",
   "execution_count": 127,
   "metadata": {},
   "outputs": [
    {
     "data": {
      "text/plain": [
       "12000"
      ]
     },
     "execution_count": 127,
     "metadata": {},
     "output_type": "execute_result"
    }
   ],
   "source": [
    "df2.BMGe1.max()"
   ]
  },
  {
   "cell_type": "code",
   "execution_count": 121,
   "metadata": {},
   "outputs": [
    {
     "name": "stdout",
     "output_type": "stream",
     "text": [
      "0.0\n"
     ]
    },
    {
     "data": {
      "text/plain": [
       "0        True\n",
       "1        True\n",
       "2       False\n",
       "3       False\n",
       "4        True\n",
       "        ...  \n",
       "1318    False\n",
       "1319     True\n",
       "1320    False\n",
       "1321    False\n",
       "1322    False\n",
       "Name: BMGe2, Length: 1323, dtype: bool"
      ]
     },
     "execution_count": 121,
     "metadata": {},
     "output_type": "execute_result"
    }
   ],
   "source": [
    "mark_outliers(df.BMGe2)"
   ]
  }
 ],
 "metadata": {
  "kernelspec": {
   "display_name": "base",
   "language": "python",
   "name": "python3"
  },
  "language_info": {
   "codemirror_mode": {
    "name": "ipython",
    "version": 3
   },
   "file_extension": ".py",
   "mimetype": "text/x-python",
   "name": "python",
   "nbconvert_exporter": "python",
   "pygments_lexer": "ipython3",
   "version": "3.11.7"
  }
 },
 "nbformat": 4,
 "nbformat_minor": 2
}
